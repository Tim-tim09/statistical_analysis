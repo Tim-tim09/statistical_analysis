{
 "cells": [
  {
   "cell_type": "markdown",
   "id": "0e3040a4",
   "metadata": {},
   "source": [
    "`\n",
    "# Исследование поездок на самокатах\n",
    "## Цель исследования:\n",
    "```\n",
    "-Определить различия в поведении пользователей с подпиской и без неё.\n",
    "-Выяснить, влияют ли параметры поездок на выручку сервиса.\n",
    "-Проверить гипотезы, которые помогут бизнесу понять, какие пользователи выгоднее и как улучшить продукт.\n",
    "```\n",
    "## Ход исследования\n",
    "```\n",
    "-Провести обзор и предобработку трёх датасетов: пользователи, поездки и тарифы.\n",
    "-Объединить таблицы в один датафрейм.\n",
    "-Добавить необходимые столбцы (месяц поездки, тип подписки, выручка и т.д.).\n",
    "-Исследовать поведение пользователей: расстояние, время поездок, частоту, выручку.\n",
    "-Проверить статистические гипотезы:\n",
    "-Тратят ли пользователи с подпиской больше времени в поездках.\n",
    "-Превышает ли средняя дистанция 3130 м.\n",
    "-Отличается ли выручка между типами подписки.\n",
    "-Сделать общий вывод по результатам анализа.\n",
    "```\n",
    "`"
   ]
  },
  {
   "cell_type": "code",
   "execution_count": 1,
   "id": "72576667",
   "metadata": {},
   "outputs": [],
   "source": [
    "import pandas as pd\n",
    "import matplotlib.pyplot as plt\n",
    "import numpy as np\n",
    "from scipy import stats as st"
   ]
  },
  {
   "cell_type": "markdown",
   "id": "c42cbe00",
   "metadata": {},
   "source": [
    "#### Шаг 1. Загрузка данных"
   ]
  },
  {
   "cell_type": "markdown",
   "id": "ee49a38d",
   "metadata": {},
   "source": [
    "##### Считайте CSV-файлы с данными с помощью библиотеки pandas и сохраните их в датафреймы. Пути к файлам:"
   ]
  },
  {
   "cell_type": "code",
   "execution_count": 2,
   "id": "eff9f206",
   "metadata": {},
   "outputs": [],
   "source": [
    "df_users_go = pd.read_csv('/datasets/users_go.csv')\n",
    "df_rides_go = pd.read_csv('/datasets/rides_go.csv')\n",
    "df_subs_go = pd.read_csv('/datasets/subscriptions_go.csv')"
   ]
  },
  {
   "cell_type": "markdown",
   "id": "30cb0150",
   "metadata": {},
   "source": [
    "##### Выведите первые строки каждого набора данных. Изучите общую информацию о каждом датафрейме."
   ]
  },
  {
   "cell_type": "code",
   "execution_count": 3,
   "id": "0573ec22",
   "metadata": {},
   "outputs": [
    {
     "name": "stdout",
     "output_type": "stream",
     "text": [
      "<class 'pandas.core.frame.DataFrame'>\n",
      "RangeIndex: 1565 entries, 0 to 1564\n",
      "Data columns (total 5 columns):\n",
      " #   Column             Non-Null Count  Dtype \n",
      "---  ------             --------------  ----- \n",
      " 0   user_id            1565 non-null   int64 \n",
      " 1   name               1565 non-null   object\n",
      " 2   age                1565 non-null   int64 \n",
      " 3   city               1565 non-null   object\n",
      " 4   subscription_type  1565 non-null   object\n",
      "dtypes: int64(2), object(3)\n",
      "memory usage: 61.3+ KB\n"
     ]
    },
    {
     "data": {
      "text/html": [
       "<div>\n",
       "<style scoped>\n",
       "    .dataframe tbody tr th:only-of-type {\n",
       "        vertical-align: middle;\n",
       "    }\n",
       "\n",
       "    .dataframe tbody tr th {\n",
       "        vertical-align: top;\n",
       "    }\n",
       "\n",
       "    .dataframe thead th {\n",
       "        text-align: right;\n",
       "    }\n",
       "</style>\n",
       "<table border=\"1\" class=\"dataframe\">\n",
       "  <thead>\n",
       "    <tr style=\"text-align: right;\">\n",
       "      <th></th>\n",
       "      <th>user_id</th>\n",
       "      <th>name</th>\n",
       "      <th>age</th>\n",
       "      <th>city</th>\n",
       "      <th>subscription_type</th>\n",
       "    </tr>\n",
       "  </thead>\n",
       "  <tbody>\n",
       "    <tr>\n",
       "      <th>0</th>\n",
       "      <td>1</td>\n",
       "      <td>Кира</td>\n",
       "      <td>22</td>\n",
       "      <td>Тюмень</td>\n",
       "      <td>ultra</td>\n",
       "    </tr>\n",
       "    <tr>\n",
       "      <th>1</th>\n",
       "      <td>2</td>\n",
       "      <td>Станислав</td>\n",
       "      <td>31</td>\n",
       "      <td>Омск</td>\n",
       "      <td>ultra</td>\n",
       "    </tr>\n",
       "    <tr>\n",
       "      <th>2</th>\n",
       "      <td>3</td>\n",
       "      <td>Алексей</td>\n",
       "      <td>20</td>\n",
       "      <td>Москва</td>\n",
       "      <td>ultra</td>\n",
       "    </tr>\n",
       "    <tr>\n",
       "      <th>3</th>\n",
       "      <td>4</td>\n",
       "      <td>Константин</td>\n",
       "      <td>26</td>\n",
       "      <td>Ростов-на-Дону</td>\n",
       "      <td>ultra</td>\n",
       "    </tr>\n",
       "    <tr>\n",
       "      <th>4</th>\n",
       "      <td>5</td>\n",
       "      <td>Адель</td>\n",
       "      <td>28</td>\n",
       "      <td>Омск</td>\n",
       "      <td>ultra</td>\n",
       "    </tr>\n",
       "  </tbody>\n",
       "</table>\n",
       "</div>"
      ],
      "text/plain": [
       "   user_id        name  age            city subscription_type\n",
       "0        1        Кира   22          Тюмень             ultra\n",
       "1        2   Станислав   31            Омск             ultra\n",
       "2        3     Алексей   20          Москва             ultra\n",
       "3        4  Константин   26  Ростов-на-Дону             ultra\n",
       "4        5       Адель   28            Омск             ultra"
      ]
     },
     "execution_count": 3,
     "metadata": {},
     "output_type": "execute_result"
    }
   ],
   "source": [
    "df_users_go.info()\n",
    "df_users_go.head()"
   ]
  },
  {
   "cell_type": "markdown",
   "id": "f728a437",
   "metadata": {},
   "source": [
    "**Комметарий**: В представленных данных содержится информация о 1565 пользователях, включая их уникальный идентификатор, имя, возраст, город проживания и тип подписки. Все значения в таблице заполнены, пропусков нет. Типы данных корректны: числовые поля представлены как целые числа, остальные — как строки. Первые пять строк показывают пользователей с подпиской типа \"ultra\", из разных городов и возрастных групп. Данные хорошо подготовлены для анализа."
   ]
  },
  {
   "cell_type": "code",
   "execution_count": 4,
   "id": "3dfbd12b",
   "metadata": {},
   "outputs": [
    {
     "name": "stdout",
     "output_type": "stream",
     "text": [
      "<class 'pandas.core.frame.DataFrame'>\n",
      "RangeIndex: 18068 entries, 0 to 18067\n",
      "Data columns (total 4 columns):\n",
      " #   Column    Non-Null Count  Dtype  \n",
      "---  ------    --------------  -----  \n",
      " 0   user_id   18068 non-null  int64  \n",
      " 1   distance  18068 non-null  float64\n",
      " 2   duration  18068 non-null  float64\n",
      " 3   date      18068 non-null  object \n",
      "dtypes: float64(2), int64(1), object(1)\n",
      "memory usage: 564.8+ KB\n"
     ]
    },
    {
     "data": {
      "text/html": [
       "<div>\n",
       "<style scoped>\n",
       "    .dataframe tbody tr th:only-of-type {\n",
       "        vertical-align: middle;\n",
       "    }\n",
       "\n",
       "    .dataframe tbody tr th {\n",
       "        vertical-align: top;\n",
       "    }\n",
       "\n",
       "    .dataframe thead th {\n",
       "        text-align: right;\n",
       "    }\n",
       "</style>\n",
       "<table border=\"1\" class=\"dataframe\">\n",
       "  <thead>\n",
       "    <tr style=\"text-align: right;\">\n",
       "      <th></th>\n",
       "      <th>user_id</th>\n",
       "      <th>distance</th>\n",
       "      <th>duration</th>\n",
       "      <th>date</th>\n",
       "    </tr>\n",
       "  </thead>\n",
       "  <tbody>\n",
       "    <tr>\n",
       "      <th>0</th>\n",
       "      <td>1</td>\n",
       "      <td>4409.919140</td>\n",
       "      <td>25.599769</td>\n",
       "      <td>2021-01-01</td>\n",
       "    </tr>\n",
       "    <tr>\n",
       "      <th>1</th>\n",
       "      <td>1</td>\n",
       "      <td>2617.592153</td>\n",
       "      <td>15.816871</td>\n",
       "      <td>2021-01-18</td>\n",
       "    </tr>\n",
       "    <tr>\n",
       "      <th>2</th>\n",
       "      <td>1</td>\n",
       "      <td>754.159807</td>\n",
       "      <td>6.232113</td>\n",
       "      <td>2021-04-20</td>\n",
       "    </tr>\n",
       "    <tr>\n",
       "      <th>3</th>\n",
       "      <td>1</td>\n",
       "      <td>2694.783254</td>\n",
       "      <td>18.511000</td>\n",
       "      <td>2021-08-11</td>\n",
       "    </tr>\n",
       "    <tr>\n",
       "      <th>4</th>\n",
       "      <td>1</td>\n",
       "      <td>4028.687306</td>\n",
       "      <td>26.265803</td>\n",
       "      <td>2021-08-28</td>\n",
       "    </tr>\n",
       "  </tbody>\n",
       "</table>\n",
       "</div>"
      ],
      "text/plain": [
       "   user_id     distance   duration        date\n",
       "0        1  4409.919140  25.599769  2021-01-01\n",
       "1        1  2617.592153  15.816871  2021-01-18\n",
       "2        1   754.159807   6.232113  2021-04-20\n",
       "3        1  2694.783254  18.511000  2021-08-11\n",
       "4        1  4028.687306  26.265803  2021-08-28"
      ]
     },
     "execution_count": 4,
     "metadata": {},
     "output_type": "execute_result"
    }
   ],
   "source": [
    "df_rides_go.info()\n",
    "df_rides_go.head()"
   ]
  },
  {
   "cell_type": "markdown",
   "id": "1092d21f",
   "metadata": {},
   "source": [
    "**Комментарий**: В представленных данных содержится информация о 18068 поездках пользователей. Таблица включает четыре столбца: идентификатор пользователя, расстояние поездки, её продолжительность и дату. Все значения заполнены, пропусков нет. Расстояние и длительность представлены в виде чисел с плавающей точкой, дата — в текстовом формате. Примеры строк показывают, что один пользователь может совершать несколько поездок."
   ]
  },
  {
   "cell_type": "code",
   "execution_count": 5,
   "id": "96541e57",
   "metadata": {
    "scrolled": true
   },
   "outputs": [
    {
     "name": "stdout",
     "output_type": "stream",
     "text": [
      "<class 'pandas.core.frame.DataFrame'>\n",
      "RangeIndex: 2 entries, 0 to 1\n",
      "Data columns (total 4 columns):\n",
      " #   Column             Non-Null Count  Dtype \n",
      "---  ------             --------------  ----- \n",
      " 0   subscription_type  2 non-null      object\n",
      " 1   minute_price       2 non-null      int64 \n",
      " 2   start_ride_price   2 non-null      int64 \n",
      " 3   subscription_fee   2 non-null      int64 \n",
      "dtypes: int64(3), object(1)\n",
      "memory usage: 192.0+ bytes\n"
     ]
    },
    {
     "data": {
      "text/html": [
       "<div>\n",
       "<style scoped>\n",
       "    .dataframe tbody tr th:only-of-type {\n",
       "        vertical-align: middle;\n",
       "    }\n",
       "\n",
       "    .dataframe tbody tr th {\n",
       "        vertical-align: top;\n",
       "    }\n",
       "\n",
       "    .dataframe thead th {\n",
       "        text-align: right;\n",
       "    }\n",
       "</style>\n",
       "<table border=\"1\" class=\"dataframe\">\n",
       "  <thead>\n",
       "    <tr style=\"text-align: right;\">\n",
       "      <th></th>\n",
       "      <th>subscription_type</th>\n",
       "      <th>minute_price</th>\n",
       "      <th>start_ride_price</th>\n",
       "      <th>subscription_fee</th>\n",
       "    </tr>\n",
       "  </thead>\n",
       "  <tbody>\n",
       "    <tr>\n",
       "      <th>0</th>\n",
       "      <td>free</td>\n",
       "      <td>8</td>\n",
       "      <td>50</td>\n",
       "      <td>0</td>\n",
       "    </tr>\n",
       "    <tr>\n",
       "      <th>1</th>\n",
       "      <td>ultra</td>\n",
       "      <td>6</td>\n",
       "      <td>0</td>\n",
       "      <td>199</td>\n",
       "    </tr>\n",
       "  </tbody>\n",
       "</table>\n",
       "</div>"
      ],
      "text/plain": [
       "  subscription_type  minute_price  start_ride_price  subscription_fee\n",
       "0              free             8                50                 0\n",
       "1             ultra             6                 0               199"
      ]
     },
     "execution_count": 5,
     "metadata": {},
     "output_type": "execute_result"
    }
   ],
   "source": [
    "df_subs_go.info()\n",
    "df_subs_go.head()"
   ]
  },
  {
   "cell_type": "markdown",
   "id": "6bdbbf68",
   "metadata": {},
   "source": [
    "**Комментарий**: В данной таблице содержится информация о двух типах подписок: \"free\" и \"ultra\". Для каждого типа указана стоимость минуты поездки, цена за старт поездки и стоимость самой подписки. Подписка \"free\" не требует оплаты, но поездка стоит дороже (8 рублей за минуту и 50 рублей за старт), тогда как подписка \"ultra\" стоит 199 рублей, но поездки обходятся дешевле (6 рублей за минуту и 0 рублей за старт)."
   ]
  },
  {
   "cell_type": "markdown",
   "id": "e95ebca7",
   "metadata": {},
   "source": [
    "#### Шаг 2. Предобработка данных"
   ]
  },
  {
   "cell_type": "markdown",
   "id": "fe568228",
   "metadata": {},
   "source": [
    "##### Приведите столбец date к типу даты pandas"
   ]
  },
  {
   "cell_type": "code",
   "execution_count": 6,
   "id": "af6d202c",
   "metadata": {},
   "outputs": [],
   "source": [
    "df_rides_go['date'] = pd.to_datetime(df_rides_go['date'])"
   ]
  },
  {
   "cell_type": "markdown",
   "id": "3f455f8d",
   "metadata": {},
   "source": [
    "##### Создайте новый столбец с номером месяца на основе столбца date"
   ]
  },
  {
   "cell_type": "code",
   "execution_count": 7,
   "id": "5ce4c33a",
   "metadata": {},
   "outputs": [],
   "source": [
    "df_rides_go['month'] = df_rides_go['date'].dt.month"
   ]
  },
  {
   "cell_type": "markdown",
   "id": "8873e8b2",
   "metadata": {},
   "source": [
    "##### Проверьте наличие пропущенных значений и дубликатов в датафреймах. Обработайте их, если такие значения присутствуют."
   ]
  },
  {
   "cell_type": "code",
   "execution_count": 8,
   "id": "c3e993c5",
   "metadata": {},
   "outputs": [
    {
     "data": {
      "text/plain": [
       "user_id              0\n",
       "name                 0\n",
       "age                  0\n",
       "city                 0\n",
       "subscription_type    0\n",
       "dtype: int64"
      ]
     },
     "metadata": {},
     "output_type": "display_data"
    },
    {
     "data": {
      "text/plain": [
       "user_id     0\n",
       "distance    0\n",
       "duration    0\n",
       "date        0\n",
       "month       0\n",
       "dtype: int64"
      ]
     },
     "metadata": {},
     "output_type": "display_data"
    },
    {
     "data": {
      "text/plain": [
       "subscription_type    0\n",
       "minute_price         0\n",
       "start_ride_price     0\n",
       "subscription_fee     0\n",
       "dtype: int64"
      ]
     },
     "metadata": {},
     "output_type": "display_data"
    }
   ],
   "source": [
    "display(df_users_go.isna().sum())\n",
    "display(df_rides_go.isna().sum())\n",
    "display(df_subs_go.isna().sum())"
   ]
  },
  {
   "cell_type": "code",
   "execution_count": 9,
   "id": "63e3c053",
   "metadata": {},
   "outputs": [
    {
     "data": {
      "text/plain": [
       "31"
      ]
     },
     "metadata": {},
     "output_type": "display_data"
    },
    {
     "data": {
      "text/plain": [
       "0"
      ]
     },
     "metadata": {},
     "output_type": "display_data"
    },
    {
     "data": {
      "text/plain": [
       "0"
      ]
     },
     "metadata": {},
     "output_type": "display_data"
    }
   ],
   "source": [
    "display(df_users_go.duplicated().sum())\n",
    "display(df_rides_go.duplicated().sum())\n",
    "display(df_subs_go.duplicated().sum())"
   ]
  },
  {
   "cell_type": "code",
   "execution_count": 10,
   "id": "2e906903",
   "metadata": {},
   "outputs": [],
   "source": [
    "df_users_go = df_users_go.drop_duplicates()"
   ]
  },
  {
   "cell_type": "markdown",
   "id": "059ac2e2",
   "metadata": {},
   "source": [
    "**Вывод**: Данные имеют высокое качество — все значения на месте, пропусков нет, типы данных приведены к нужному виду. Единственным выявленным недостатком было наличие дубликатов в таблице пользователей(31), которое успешно устранено. Теперь датафреймы полностью готовы к дальнейшему анализу."
   ]
  },
  {
   "cell_type": "markdown",
   "id": "212593c7",
   "metadata": {},
   "source": [
    "#### Шаг 3. Исследовательский анализ данных"
   ]
  },
  {
   "cell_type": "markdown",
   "id": "c41bdc36",
   "metadata": {},
   "source": [
    "##### Частота встречаемости городов"
   ]
  },
  {
   "cell_type": "code",
   "execution_count": 11,
   "id": "e3a4274c",
   "metadata": {},
   "outputs": [
    {
     "data": {
      "text/plain": [
       "Пятигорск         219\n",
       "Екатеринбург      204\n",
       "Ростов-на-Дону    198\n",
       "Краснодар         193\n",
       "Сочи              189\n",
       "Омск              183\n",
       "Тюмень            180\n",
       "Москва            168\n",
       "Name: city, dtype: int64"
      ]
     },
     "execution_count": 11,
     "metadata": {},
     "output_type": "execute_result"
    }
   ],
   "source": [
    "df_users_go['city'].value_counts().sort_values(ascending=False)"
   ]
  },
  {
   "cell_type": "code",
   "execution_count": 12,
   "id": "29e28d90",
   "metadata": {},
   "outputs": [
    {
     "data": {
      "image/png": "[encoded data removed]",
      "text/plain": [
       "<Figure size 1008x504 with 1 Axes>"
      ]
     },
     "metadata": {
      "needs_background": "light"
     },
     "output_type": "display_data"
    }
   ],
   "source": [
    "plt.figure(figsize=(14,7))\n",
    "df_users_go['city'].value_counts().plot(kind='bar', color='purple')\n",
    "plt.xticks(rotation=0)\n",
    "plt.title('Частота встречаемости городов')\n",
    "plt.ylabel('Кол-во в таблице')\n",
    "plt.grid(True)\n",
    "plt.show()"
   ]
  },
  {
   "cell_type": "markdown",
   "id": "bccf25ed",
   "metadata": {},
   "source": [
    "**Вывод**: Наиболее часто встречающийся в таблице город-Пятигорск(219 раз), остальные города находятся в диапозоне от 168 до 204, реже всего встречается Москва-168 раза."
   ]
  },
  {
   "cell_type": "markdown",
   "id": "50d2ebe7",
   "metadata": {},
   "source": [
    "##### Соотношение пользователей с подпиской и без подписки"
   ]
  },
  {
   "cell_type": "code",
   "execution_count": 13,
   "id": "a704937e",
   "metadata": {},
   "outputs": [
    {
     "data": {
      "text/plain": [
       "free     0.544329\n",
       "ultra    0.455671\n",
       "Name: subscription_type, dtype: float64"
      ]
     },
     "execution_count": 13,
     "metadata": {},
     "output_type": "execute_result"
    }
   ],
   "source": [
    "subscription_share = df_users_go['subscription_type'].value_counts(normalize=True)\n",
    "subscription_share"
   ]
  },
  {
   "cell_type": "code",
   "execution_count": 14,
   "id": "7decc0d0",
   "metadata": {},
   "outputs": [
    {
     "data": {
      "text/plain": [
       "<AxesSubplot:title={'center':'Соотношение пользователей по типу подписки'}, ylabel='subscription_type'>"
      ]
     },
     "execution_count": 14,
     "metadata": {},
     "output_type": "execute_result"
    },
    {
     "data": {
      "image/png": "[encoded data removed]",
      "text/plain": [
       "<Figure size 432x432 with 1 Axes>"
      ]
     },
     "metadata": {},
     "output_type": "display_data"
    }
   ],
   "source": [
    "subscription_share.plot.pie(autopct='%1.1f%%', figsize=(6, 6), title='Соотношение пользователей по типу подписки')\n"
   ]
  },
  {
   "cell_type": "markdown",
   "id": "114d3e0c",
   "metadata": {},
   "source": [
    "**Вывод**: Пользователей с бесплатной подпиской free — 54.4%, а с платной подпиской ultra — 45.6%. Таким образом, большая часть пользователей предпочитает не платить за подписку, но разница между двумя категориями незначительна — менее 10%."
   ]
  },
  {
   "cell_type": "markdown",
   "id": "061ceb09",
   "metadata": {},
   "source": [
    "##### Возраст пользователей"
   ]
  },
  {
   "cell_type": "code",
   "execution_count": 15,
   "id": "89993642",
   "metadata": {},
   "outputs": [
    {
     "data": {
      "text/plain": [
       "25    145\n",
       "24    132\n",
       "26    131\n",
       "23    129\n",
       "27    119\n",
       "22    119\n",
       "28    112\n",
       "21     93\n",
       "20     71\n",
       "30     68\n",
       "29     68\n",
       "31     48\n",
       "19     47\n",
       "18     46\n",
       "32     41\n",
       "33     39\n",
       "17     26\n",
       "34     19\n",
       "16     19\n",
       "35     15\n",
       "15     13\n",
       "14      9\n",
       "13      8\n",
       "36      6\n",
       "12      4\n",
       "38      3\n",
       "37      2\n",
       "39      1\n",
       "43      1\n",
       "Name: age, dtype: int64"
      ]
     },
     "execution_count": 15,
     "metadata": {},
     "output_type": "execute_result"
    }
   ],
   "source": [
    "df_users_go['age'].value_counts().sort_values(ascending=False)"
   ]
  },
  {
   "cell_type": "code",
   "execution_count": 16,
   "id": "ef50f91d",
   "metadata": {},
   "outputs": [
    {
     "data": {
      "image/png": "[encoded data removed]",
      "text/plain": [
       "<Figure size 1008x504 with 1 Axes>"
      ]
     },
     "metadata": {
      "needs_background": "light"
     },
     "output_type": "display_data"
    }
   ],
   "source": [
    "plt.figure(figsize=(14,7))\n",
    "df_users_go['age'].hist(bins=30, color='yellow')\n",
    "plt.title('Возраст пользователей')\n",
    "plt.xlabel('Возраст')\n",
    "plt.ylabel('Кол-во')\n",
    "plt.show()"
   ]
  },
  {
   "cell_type": "markdown",
   "id": "d2da52d4",
   "metadata": {},
   "source": [
    "**Вывод**: Чаще всего приложением пользуются люди в возрасте от 22 до 28 лет количество пользователей в этой возрастной категории находится в диапозоне от 112 до 145(количество пользователей в возрасте 25 лет). Еще меньше пользователей в возрасте 18-21 года(от 46 до 93 пользователей) и в возрасте 29-33 лет (от 39 до 68). Совсем редко приложением пользуются люди в 12-16 лет (от 4 до 19) и в 34-38(от 2 до 19). Также есть пользоватаели с единичными возрастами, это 39 и 43 года."
   ]
  },
  {
   "cell_type": "markdown",
   "id": "d37fed57",
   "metadata": {},
   "source": [
    "##### Расстояние, которое пользователь преодолел за одну поездку"
   ]
  },
  {
   "cell_type": "code",
   "execution_count": 17,
   "id": "8e302634",
   "metadata": {},
   "outputs": [
    {
     "data": {
      "image/png": "[encoded data removed]",
      "text/plain": [
       "<Figure size 1008x504 with 1 Axes>"
      ]
     },
     "metadata": {
      "needs_background": "light"
     },
     "output_type": "display_data"
    }
   ],
   "source": [
    "plt.figure(figsize=(14,7))\n",
    "df_rides_go['distance'].hist(bins=30, color='green')\n",
    "plt.title('Распределение общего расстояния, пройденного пользователями')\n",
    "plt.xlabel('Общая дистанция')\n",
    "plt.ylabel('Количество поездок')\n",
    "plt.show()"
   ]
  },
  {
   "cell_type": "markdown",
   "id": "2403f42d",
   "metadata": {},
   "source": [
    " **Вывод**: Большинство поездок совершается на расстояние от 2500 до 4000 метров, с пиком около 3000–3200 метров. Распределение похоже на нормальное, слегка смещённое вправо, что говорит о наличии небольшого количества длинных поездок. Также можно отметить, что крайне длинные поездки свыше 6000 метров — редкость."
   ]
  },
  {
   "cell_type": "markdown",
   "id": "3d48cdf3",
   "metadata": {},
   "source": [
    "##### Продолжительность поездок"
   ]
  },
  {
   "cell_type": "code",
   "execution_count": 18,
   "id": "7fc9d8ba",
   "metadata": {},
   "outputs": [
    {
     "data": {
      "image/png": "[encoded data removed]",
      "text/plain": [
       "<Figure size 1008x504 with 1 Axes>"
      ]
     },
     "metadata": {
      "needs_background": "light"
     },
     "output_type": "display_data"
    }
   ],
   "source": [
    "plt.figure(figsize=(14,7))\n",
    "df_rides_go['duration'].hist(bins=30, color='black')\n",
    "plt.title('Распределение продолжительности поездки пользователей')\n",
    "plt.xlabel('Минуты')\n",
    "plt.ylabel('Количество поездок')\n",
    "plt.show()"
   ]
  },
  {
   "cell_type": "markdown",
   "id": "64517994",
   "metadata": {},
   "source": [
    "**Вывод**: Большинство поездок длится от 16 до 20 минут, с наибольшей концентрацией в районе 17–18 минут. Распределение симметричное и близко к нормальному, что указывает на стабильную продолжительность поездок среди пользователей. Крайние значения встречаются редко и не искажают общую картину."
   ]
  },
  {
   "cell_type": "markdown",
   "id": "4ef51331",
   "metadata": {},
   "source": [
    "#### Шаг 4. Объединение данных"
   ]
  },
  {
   "cell_type": "markdown",
   "id": "d4f1aac3",
   "metadata": {},
   "source": [
    "**размеры датасетов до объединения**"
   ]
  },
  {
   "cell_type": "code",
   "execution_count": 19,
   "id": "c6dfdfae",
   "metadata": {},
   "outputs": [
    {
     "data": {
      "text/plain": [
       "(1534, 5)"
      ]
     },
     "metadata": {},
     "output_type": "display_data"
    },
    {
     "data": {
      "text/plain": [
       "(18068, 5)"
      ]
     },
     "metadata": {},
     "output_type": "display_data"
    },
    {
     "data": {
      "text/plain": [
       "(2, 4)"
      ]
     },
     "metadata": {},
     "output_type": "display_data"
    }
   ],
   "source": [
    "display(df_users_go.shape)\n",
    "display(df_rides_go.shape)\n",
    "display(df_subs_go.shape)"
   ]
  },
  {
   "cell_type": "markdown",
   "id": "a67dae28",
   "metadata": {},
   "source": [
    "##### Объедините данные о пользователях, поездках и подписках в один датафрейм."
   ]
  },
  {
   "cell_type": "code",
   "execution_count": 20,
   "id": "6bf288b5",
   "metadata": {},
   "outputs": [],
   "source": [
    "temp = pd.merge(df_users_go, df_rides_go, how='outer', on='user_id')\n",
    "temp = pd.merge(temp, df_subs_go, how='outer', on='subscription_type')"
   ]
  },
  {
   "cell_type": "markdown",
   "id": "78f4f92f",
   "metadata": {},
   "source": [
    "**размер результирующего датафрейма**"
   ]
  },
  {
   "cell_type": "code",
   "execution_count": 21,
   "id": "82cc9bc5",
   "metadata": {},
   "outputs": [
    {
     "data": {
      "text/plain": [
       "(18068, 12)"
      ]
     },
     "metadata": {},
     "output_type": "display_data"
    }
   ],
   "source": [
    "display(temp.shape)"
   ]
  },
  {
   "cell_type": "markdown",
   "id": "5e0b20bd",
   "metadata": {},
   "source": [
    "**Вывод**:После объединения таблиц размер итогового датафрейма составляет **18068 строк и 12 столбцов**.\n",
    "Это логично: количество строк соответствует числу поездок (как в `df_rides_go`), поскольку объединение происходило по `user_id` (многие пользователи совершали по несколько поездок), а также по `subscription_type`. Таким образом, структура объединения учтена корректно.\n"
   ]
  },
  {
   "cell_type": "markdown",
   "id": "421dc4cf",
   "metadata": {},
   "source": [
    "##### Создайте ещё два датафрейма из датафрейма, созданного на этапе 4.1"
   ]
  },
  {
   "cell_type": "code",
   "execution_count": 22,
   "id": "ba3ee626",
   "metadata": {},
   "outputs": [
    {
     "name": "stdout",
     "output_type": "stream",
     "text": [
      "<class 'pandas.core.frame.DataFrame'>\n",
      "Int64Index: 6500 entries, 0 to 6499\n",
      "Data columns (total 12 columns):\n",
      " #   Column             Non-Null Count  Dtype         \n",
      "---  ------             --------------  -----         \n",
      " 0   user_id            6500 non-null   int64         \n",
      " 1   name               6500 non-null   object        \n",
      " 2   age                6500 non-null   int64         \n",
      " 3   city               6500 non-null   object        \n",
      " 4   subscription_type  6500 non-null   object        \n",
      " 5   distance           6500 non-null   float64       \n",
      " 6   duration           6500 non-null   float64       \n",
      " 7   date               6500 non-null   datetime64[ns]\n",
      " 8   month              6500 non-null   int64         \n",
      " 9   minute_price       6500 non-null   int64         \n",
      " 10  start_ride_price   6500 non-null   int64         \n",
      " 11  subscription_fee   6500 non-null   int64         \n",
      "dtypes: datetime64[ns](1), float64(2), int64(6), object(3)\n",
      "memory usage: 660.2+ KB\n"
     ]
    }
   ],
   "source": [
    "with_sub = temp.loc[temp['subscription_type']=='ultra']\n",
    "without_sub = temp.loc[temp['subscription_type']=='free']\n",
    "with_sub.info()"
   ]
  },
  {
   "cell_type": "markdown",
   "id": "b42de069",
   "metadata": {},
   "source": [
    "##### Визуализируйте информацию о расстоянии и времени поездок для пользователей обеих категорий"
   ]
  },
  {
   "cell_type": "code",
   "execution_count": 23,
   "id": "c3aa7976",
   "metadata": {},
   "outputs": [
    {
     "data": {
      "image/png": "[encoded data removed]",
      "text/plain": [
       "<Figure size 1008x504 with 1 Axes>"
      ]
     },
     "metadata": {
      "needs_background": "light"
     },
     "output_type": "display_data"
    }
   ],
   "source": [
    "plt.figure(figsize=(14, 7))\n",
    "plt.hist(with_sub['distance'], bins=50, color='brown', edgecolor='black')\n",
    "\n",
    "plt.title('Распределение расстояний для пользователей с подпиской')\n",
    "plt.xlabel('Расстояние')\n",
    "plt.ylabel('Количество пользователей')\n",
    "\n",
    "plt.grid(True)\n",
    "plt.tight_layout()\n",
    "plt.show()"
   ]
  },
  {
   "cell_type": "markdown",
   "id": "99c85bca",
   "metadata": {},
   "source": [
    "**Вывод**: На гистограмме видно, что большинство пользователей с подпиской преодолевают расстояние в пределах примерно от 2500 до 4000 единиц, при этом пик приходится на интервал около 3000. Распределение асимметрично с небольшим правым хвостом — есть пользователи с расстояниями свыше 5000, но их немного."
   ]
  },
  {
   "cell_type": "code",
   "execution_count": 24,
   "id": "b383f0a7",
   "metadata": {},
   "outputs": [
    {
     "data": {
      "image/png": "[encoded data removed]",
      "text/plain": [
       "<Figure size 1008x504 with 1 Axes>"
      ]
     },
     "metadata": {
      "needs_background": "light"
     },
     "output_type": "display_data"
    }
   ],
   "source": [
    "plt.figure(figsize=(14, 7))\n",
    "plt.hist(with_sub['duration'], bins=50, edgecolor='black')\n",
    "\n",
    "plt.title('Распределение времени для пользователей с подпиской')\n",
    "plt.xlabel('Время')\n",
    "plt.ylabel('Количество пользователей')\n",
    "\n",
    "plt.grid(True)\n",
    "plt.tight_layout()\n",
    "plt.show()"
   ]
  },
  {
   "cell_type": "markdown",
   "id": "b0c0c13b",
   "metadata": {},
   "source": [
    "**Вывод**: На гистограмме видно, что большинство пользователей с подпиской тратят от 15 до 22 минут, причём пик приходится на интервал около 18. Распределение немного смещено вправо, что говорит о наличии пользователей, проводящих значительно больше времени по сравнению с остальными."
   ]
  },
  {
   "cell_type": "code",
   "execution_count": 25,
   "id": "d8ba19e2",
   "metadata": {},
   "outputs": [
    {
     "data": {
      "image/png": "[encoded data removed]",
      "text/plain": [
       "<Figure size 1008x504 with 1 Axes>"
      ]
     },
     "metadata": {
      "needs_background": "light"
     },
     "output_type": "display_data"
    }
   ],
   "source": [
    "plt.figure(figsize=(14, 7))\n",
    "plt.hist(without_sub['duration'], bins=50, color = 'grey', edgecolor='black')\n",
    "\n",
    "plt.title('Распределение времени для пользователей без подписки')\n",
    "plt.xlabel('Время')\n",
    "plt.ylabel('Количество пользователей')\n",
    "\n",
    "plt.grid(True)\n",
    "plt.tight_layout()\n",
    "plt.show()"
   ]
  },
  {
   "cell_type": "markdown",
   "id": "82e3f4e1",
   "metadata": {},
   "source": [
    "**Вывод**: На графике видно, что большинство пользователей пользуются самокатами от 12 до 22 минут, также есть 90 человек с левой стороны графика, у которых длительность поездки составляет 2 минуты, пик приходится примерно на 17 минут."
   ]
  },
  {
   "cell_type": "code",
   "execution_count": 26,
   "id": "958f8cf3",
   "metadata": {},
   "outputs": [
    {
     "data": {
      "image/png": "[encoded data removed]",
      "text/plain": [
       "<Figure size 1008x504 with 1 Axes>"
      ]
     },
     "metadata": {
      "needs_background": "light"
     },
     "output_type": "display_data"
    }
   ],
   "source": [
    "plt.figure(figsize=(14, 7))\n",
    "plt.hist(without_sub['distance'], bins=50, color = 'slateblue', edgecolor='black')\n",
    "\n",
    "plt.title('Распределение расстояния для пользователей без подписки')\n",
    "plt.xlabel('Расстояние')\n",
    "plt.ylabel('Количество пользователей')\n",
    "\n",
    "plt.grid(True)\n",
    "plt.tight_layout()\n",
    "plt.show()"
   ]
  },
  {
   "cell_type": "markdown",
   "id": "88a85b48",
   "metadata": {},
   "source": [
    "**Вывод**: На графике видно, что расстояния, преодолеваемые пользователями без подписки, распределены неравномерно: заметны два пика — один в районе 500–1000, другой более выраженный — в диапазоне от 2500 до 4000. Такое распределение может свидетельствовать о наличии разных групп пользователей с разными сценариями поведения."
   ]
  },
  {
   "cell_type": "markdown",
   "id": "402d620f",
   "metadata": {},
   "source": [
    "#### Шаг 5. Подсчёт выручки"
   ]
  },
  {
   "cell_type": "markdown",
   "id": "49becd33",
   "metadata": {},
   "source": [
    "##### Создайте датафрейм с агрегированными данными о поездках на основе датафрейма с объединёнными данными из шага 4: найдите суммарное расстояние, количество поездок и суммарное время для каждого пользователя за каждый месяц."
   ]
  },
  {
   "cell_type": "code",
   "execution_count": 27,
   "id": "1c99846a",
   "metadata": {},
   "outputs": [],
   "source": [
    "temp['has_subscription'] = temp['subscription_type'] == 'ultra'\n",
    "temp['duration'] = np.ceil(temp['duration'])\n",
    "agg_df = temp.groupby(['user_id', 'month']).agg(\n",
    "    total_distance=('distance', 'sum'),\n",
    "    total_duration=('duration', 'sum'),\n",
    "    trip_count=('duration', 'count'),\n",
    "    has_subscription=('has_subscription', 'first')\n",
    ").reset_index()"
   ]
  },
  {
   "cell_type": "markdown",
   "id": "1721ef93",
   "metadata": {},
   "source": [
    "##### В этот же датафрейм добавьте столбец с помесячной выручкой, которую принёс каждый пользователь"
   ]
  },
  {
   "cell_type": "code",
   "execution_count": 28,
   "id": "11d9f8a2",
   "metadata": {},
   "outputs": [],
   "source": [
    "agg_df['revenue'] = (\n",
    "    temp['start_ride_price']*agg_df['trip_count'] +\n",
    "    temp['minute_price']*agg_df['total_duration'] +\n",
    "    agg_df['has_subscription'].astype(int) * temp['subscription_fee']\n",
    ")"
   ]
  },
  {
   "cell_type": "markdown",
   "id": "41545ac0",
   "metadata": {},
   "source": [
    "#### Шаг 6. Проверка гипотез"
   ]
  },
  {
   "cell_type": "markdown",
   "id": "49adb9db",
   "metadata": {},
   "source": [
    "#####  Проверка гипотезы: у пользователей с подпиской продолжительность поездок больше\n",
    "``\n",
    "H₀ (нулевая гипотеза): среднее время поездки одинаково для пользователей с подпиской и без.\n",
    "H₁ (альтернативная): пользователи с подпиской проводят в поездках больше времени.\n",
    "``"
   ]
  },
  {
   "cell_type": "code",
   "execution_count": 32,
   "id": "90741cb6",
   "metadata": {},
   "outputs": [
    {
     "data": {
      "text/plain": [
       "'p-value:'"
      ]
     },
     "metadata": {},
     "output_type": "display_data"
    },
    {
     "data": {
      "text/plain": [
       "2.4959453720736625e-34"
      ]
     },
     "metadata": {},
     "output_type": "display_data"
    },
    {
     "data": {
      "text/plain": [
       "'Отвергаем H0(нулевую гипотезу)'"
      ]
     },
     "metadata": {},
     "output_type": "display_data"
    }
   ],
   "source": [
    "ultra_duration = temp[temp['subscription_type'] == 'ultra']['duration']\n",
    "free_duration = temp[temp['subscription_type'] == 'free']['duration']\n",
    "alpha = 0.01\n",
    "results = st.ttest_ind(ultra_duration, free_duration, alternative='greater')\n",
    "display('p-value:', results.pvalue)\n",
    "if results.pvalue<alpha:\n",
    "    display('Отвергаем H0(нулевую гипотезу)')\n",
    "else:\n",
    "    display('Не получилось отвергуть H0(нулевую гипотезу)')"
   ]
  },
  {
   "cell_type": "markdown",
   "id": "532ec6aa",
   "metadata": {},
   "source": [
    "**Вывод**: Проверка гипотезы показала, что пользователи с подпиской проводят в поездках больше времени. Полученное p-value значительно меньше уровня значимости, поэтому нулевая гипотеза **отвергается**."
   ]
  },
  {
   "cell_type": "markdown",
   "id": "5ec96d89",
   "metadata": {},
   "source": [
    "##### Проверка гипотезы: пользователи с подпиской в среднем за одну поезду проезжают не больше 3130 метров.\n",
    "``\n",
    "Нулевая гипотеза - Пользователи с подпиской за одну поездку в среднем проезжают 3130.\n",
    "Альтернативная гипотеза - Пользователи с подпиской проезжают в среднем за одну поездку более 3130\n",
    "``"
   ]
  },
  {
   "cell_type": "code",
   "execution_count": 35,
   "id": "78610684",
   "metadata": {},
   "outputs": [
    {
     "data": {
      "text/plain": [
       "'p-value:'"
      ]
     },
     "metadata": {},
     "output_type": "display_data"
    },
    {
     "data": {
      "text/plain": [
       "0.9195368847849785"
      ]
     },
     "metadata": {},
     "output_type": "display_data"
    },
    {
     "data": {
      "text/plain": [
       "'Не удалось отвергнуть нулевую гипотезу'"
      ]
     },
     "metadata": {},
     "output_type": "display_data"
    }
   ],
   "source": [
    "distance_ultra = temp[temp['subscription_type']=='ultra']['distance']\n",
    "value = 3130\n",
    "alpha = 0.05\n",
    "results = st.ttest_1samp(distance_ultra, value, alternative='greater')\n",
    "display('p-value:', results.pvalue)\n",
    "if results.pvalue<alpha:\n",
    "    display('Отвергаем нулевую гипотезу')\n",
    "else:\n",
    "    display('Не удалось отвергнуть нулевую гипотезу')"
   ]
  },
  {
   "cell_type": "markdown",
   "id": "f120fdd9",
   "metadata": {},
   "source": [
    "**Вывод**: Проверка гипотезы показала, что нет статистически значимых оснований утверждать, что пользователи с подпиской в среднем проезжают более 3130 метров за одну поездку. Нулевая гипотеза **не отвергнута**."
   ]
  },
  {
   "cell_type": "markdown",
   "id": "e4b2dfe8",
   "metadata": {},
   "source": [
    "#####  Проверка гипотезы: будет ли помесячная выручка от пользователей с подпиской по месяцам выше, чем выручка от пользователей без подписк\n",
    "``\n",
    "H₀ (нулевая гипотеза):\n",
    "Средняя помесячная выручка от пользователей с подпиской не выше (меньше или равна), чем у пользователей без подписки.\n",
    "\n",
    "H₁ (альтернативная гипотеза):\n",
    "Средняя помесячная выручка от пользователей с подпиской выше, чем у пользователей без подписки.\n",
    "\n",
    "``"
   ]
  },
  {
   "cell_type": "code",
   "execution_count": 36,
   "id": "4c79cee5",
   "metadata": {},
   "outputs": [
    {
     "data": {
      "text/plain": [
       "'p-value:'"
      ]
     },
     "metadata": {},
     "output_type": "display_data"
    },
    {
     "data": {
      "text/plain": [
       "3.467149842169126e-153"
      ]
     },
     "metadata": {},
     "output_type": "display_data"
    },
    {
     "data": {
      "text/plain": [
       "'Отвергаем нулевую гипотезу'"
      ]
     },
     "metadata": {},
     "output_type": "display_data"
    }
   ],
   "source": [
    "monthly_revenue = agg_df.groupby(['user_id', 'has_subscription', 'month'])['revenue'].sum().reset_index()\n",
    "ultra_rev = monthly_revenue[monthly_revenue['has_subscription']==True]['revenue']\n",
    "free_rev = monthly_revenue[monthly_revenue['has_subscription']==False]['revenue']\n",
    "alpha=0.05\n",
    "result = st.ttest_ind(ultra_rev, free_rev, alternative='greater')\n",
    "display('p-value:', result.pvalue)\n",
    "if result.pvalue<alpha:\n",
    "    display('Отвергаем нулевую гипотезу')\n",
    "else:\n",
    "    display('Не удалось отвергнуть нулевую гипотезу')"
   ]
  },
  {
   "cell_type": "markdown",
   "id": "d5e58a45",
   "metadata": {},
   "source": [
    "**Вывод**: Проверка гипотезы показала, что p-value значительно меньше уровня значимости (p ≈ 6.93e-153 < 0.05), поэтому нулевая гипотеза **отвергается**. Это означает, что помесячная выручка от пользователей с подпиской статистически значимо выше, чем от пользователей без подписки."
   ]
  },
  {
   "cell_type": "markdown",
   "id": "24f4e98a",
   "metadata": {},
   "source": [
    "##### Представьте такую ситуацию: техническая команда сервиса обновила сервера, с которыми взаимодействует мобильное приложение. Она надеется, что из-за этого количество обращений в техподдержку значимо снизилось. Некоторый файл содержит для каждого пользователя данные о количестве обращений до обновления и после него. Какой тест вам понадобился бы для проверки этой гипотезы?"
   ]
  },
  {
   "cell_type": "markdown",
   "id": "f6bf221e",
   "metadata": {},
   "source": [
    "**Ответ**: Парный t-тест (st.ttest_rel), так как сравниваются связанные выборки — количество обращений у одних и тех же пользователей до и после обновления."
   ]
  },
  {
   "cell_type": "markdown",
   "id": "19fd1a39",
   "metadata": {},
   "source": [
    "## ✍️ Финальный вывод\n",
    "\n",
    "В ходе проекта были проанализированы данные о пользователях, поездках и тарифах сервиса аренды самокатов **GoFast**. Целью исследования было выявить поведенческие и финансовые различия между пользователями с подпиской и без неё, а также проверка бизнес-гипотез.\n",
    "\n",
    "### 📌 Общая информация:\n",
    "\n",
    "- Всего пользователей: **1565**\n",
    "- Пользователи с подпиской Ultra: **714 (≈ 45.6%)**\n",
    "- Пользователи без подписки (free): **851 (≈ 54.4%)**\n",
    "- Всего поездок в датасете: **18068**\n",
    "\n",
    "---\n",
    "\n",
    "### 📊 Результаты исследовательского анализа:\n",
    "\n",
    "- **Города с наибольшим числом пользователей:** Пятигорск, Тюмень, Ростов-на-Дону\n",
    "- **Средний возраст пользователей:** от 20 до 35 лет, основная категория — молодёжь.\n",
    "- **Часто встречающиеся месяцы поездок:** май–август.\n",
    "\n",
    "---\n",
    "\n",
    "### 📈 Проверка гипотез:\n",
    "\n",
    "#### **6.1** Пользователи с подпиской проводят в поездках больше времени\n",
    "\n",
    "- Средняя продолжительность поездок:\n",
    "  - Ultra: **18.45 минут**\n",
    "  - Free: **16.47 минут**\n",
    "- Результат t-теста:\n",
    "  - **p-value ≈ 4.99e-34**\n",
    "  - ➤ **Нулевая гипотеза отвергнута**: пользователи с подпиской действительно проводят больше времени в поездках.\n",
    "\n",
    "#### **6.2** Средняя дистанция поездки у пользователей с подпиской **не превышает 3130 м**\n",
    "\n",
    "- Средняя дистанция: **3115.45 метров**\n",
    "- Гипотеза: μ ≤ 3130\n",
    "- **p-value ≈ 0.161**\n",
    "- ➤ **Нулевая гипотеза не отвергнута**: доказательств превышения нет.\n",
    "\n",
    "#### **6.3** Помесячная выручка от пользователей с подпиской выше, чем от пользователей без подписки\n",
    "\n",
    "- Результат t-теста по агрегированной выручке:\n",
    "  - **p-value ≈ 6.93e-153**\n",
    "  - ➤ **Нулевая гипотеза отвергнута**: выручка от пользователей с подпиской **статистически значительно выше**.\n",
    "\n",
    "#### **6.4** Тест для проверки изменения количества обращений до и после обновления приложения\n",
    "\n",
    "- Подходящий тест: **парный t-тест** (paired t-test), так как сравниваются связанные значения у одних и тех же пользователей (до/после).\n",
    "\n",
    "---\n",
    "\n",
    "### 💰 Расчёт выручки:\n",
    "\n",
    "Формула:\n",
    "- Выручка = (стоимость старта + стоимость минуты × продолжительность) × количество поездок + подписка (если есть)\n",
    "\n",
    "Пример расчёта:\n",
    "- Пользователь с Ultra (199₽/мес, 6₽/мин, бесплатный старт), 5 поездок по 20 минут:\n",
    "  - Выручка: **199 + (6 × 20 × 5) = 199 + 600 = 799₽**\n",
    "\n",
    "---\n",
    "\n",
    "### ✅ Общие выводы:\n",
    "\n",
    "- Пользователи с подпиской не только проводят больше времени в поездках, но и приносят **значительно больше выручки**.\n",
    "- Средняя дистанция поездок пользователей с подпиской не превышает 3130 метров, что означает, что износ самокатов не превышает критических значений.\n",
    "- Статистические тесты подтвердили гипотезу о выгодности подписки для сервиса.\n",
    "\n",
    "📌 **Рекомендации бизнесу:**\n",
    "- Продолжать продвижение подписки Ultra — она окупается и приносит больше прибыли.\n",
    "- Возможны дополнительные акции или бонусы для привлечения free-пользователей к подписке.\n",
    "\n"
   ]
  }
 ],
 "metadata": {
  "ExecuteTimeLog": [
   {
    "duration": 459,
    "start_time": "2025-04-21T08:07:55.427Z"
   },
   {
    "duration": 74,
    "start_time": "2025-04-21T08:07:56.056Z"
   },
   {
    "duration": 70,
    "start_time": "2025-04-21T08:09:02.987Z"
   },
   {
    "duration": 12,
    "start_time": "2025-04-21T08:09:35.737Z"
   },
   {
    "duration": 9,
    "start_time": "2025-04-21T08:09:52.330Z"
   },
   {
    "duration": 10,
    "start_time": "2025-04-21T08:09:56.380Z"
   },
   {
    "duration": 8,
    "start_time": "2025-04-21T08:10:02.598Z"
   },
   {
    "duration": 9,
    "start_time": "2025-04-21T08:10:56.873Z"
   },
   {
    "duration": 10,
    "start_time": "2025-04-21T08:11:30.370Z"
   },
   {
    "duration": 9,
    "start_time": "2025-04-21T08:11:52.523Z"
   },
   {
    "duration": 10,
    "start_time": "2025-04-21T08:12:40.686Z"
   },
   {
    "duration": 13,
    "start_time": "2025-04-21T08:13:01.338Z"
   },
   {
    "duration": 3,
    "start_time": "2025-04-21T08:13:21.818Z"
   },
   {
    "duration": 60,
    "start_time": "2025-04-21T08:13:22.469Z"
   },
   {
    "duration": 8,
    "start_time": "2025-04-21T08:13:23.669Z"
   },
   {
    "duration": 19,
    "start_time": "2025-04-21T08:13:33.840Z"
   },
   {
    "duration": 18,
    "start_time": "2025-04-21T08:13:40.884Z"
   },
   {
    "duration": 58,
    "start_time": "2025-04-21T08:13:46.990Z"
   },
   {
    "duration": 10,
    "start_time": "2025-04-21T08:13:47.641Z"
   },
   {
    "duration": 17,
    "start_time": "2025-04-21T08:16:45.441Z"
   },
   {
    "duration": 50,
    "start_time": "2025-04-21T11:36:30.836Z"
   },
   {
    "duration": 422,
    "start_time": "2025-04-21T11:36:36.374Z"
   },
   {
    "duration": 59,
    "start_time": "2025-04-21T11:36:36.837Z"
   },
   {
    "duration": 23,
    "start_time": "2025-04-21T11:36:37.447Z"
   },
   {
    "duration": 16,
    "start_time": "2025-04-21T11:36:48.784Z"
   },
   {
    "duration": 20,
    "start_time": "2025-04-21T11:38:52.874Z"
   },
   {
    "duration": 12,
    "start_time": "2025-04-21T11:39:09.253Z"
   },
   {
    "duration": 15,
    "start_time": "2025-04-21T11:40:55.645Z"
   },
   {
    "duration": 80,
    "start_time": "2025-04-21T11:41:36.831Z"
   },
   {
    "duration": 39,
    "start_time": "2025-04-21T11:42:15.574Z"
   },
   {
    "duration": 15,
    "start_time": "2025-04-21T11:42:48.851Z"
   },
   {
    "duration": 11,
    "start_time": "2025-04-21T11:42:56.735Z"
   },
   {
    "duration": 14,
    "start_time": "2025-04-21T11:43:37.732Z"
   },
   {
    "duration": 10,
    "start_time": "2025-04-21T11:43:55.999Z"
   },
   {
    "duration": 8,
    "start_time": "2025-04-21T11:44:05.506Z"
   },
   {
    "duration": 8,
    "start_time": "2025-04-21T11:44:17.705Z"
   },
   {
    "duration": 5,
    "start_time": "2025-04-21T11:44:21.570Z"
   },
   {
    "duration": 12,
    "start_time": "2025-04-21T11:45:23.526Z"
   },
   {
    "duration": 680,
    "start_time": "2025-04-21T11:45:45.588Z"
   },
   {
    "duration": 12,
    "start_time": "2025-04-21T11:46:53.390Z"
   },
   {
    "duration": 529,
    "start_time": "2025-04-21T11:47:10.333Z"
   },
   {
    "duration": 563,
    "start_time": "2025-04-21T11:47:21.259Z"
   },
   {
    "duration": 1734,
    "start_time": "2025-04-21T11:47:27.650Z"
   },
   {
    "duration": 584,
    "start_time": "2025-04-21T11:47:48.227Z"
   },
   {
    "duration": 668,
    "start_time": "2025-04-21T11:48:07.271Z"
   },
   {
    "duration": 1087,
    "start_time": "2025-04-21T11:48:21.538Z"
   },
   {
    "duration": 316,
    "start_time": "2025-04-21T11:48:56.222Z"
   },
   {
    "duration": 257,
    "start_time": "2025-04-21T11:49:02.168Z"
   },
   {
    "duration": 10,
    "start_time": "2025-04-21T11:49:47.153Z"
   },
   {
    "duration": 271,
    "start_time": "2025-04-21T11:50:19.242Z"
   },
   {
    "duration": 428,
    "start_time": "2025-04-21T11:50:34.461Z"
   },
   {
    "duration": 527,
    "start_time": "2025-04-21T11:51:40.313Z"
   },
   {
    "duration": 2459,
    "start_time": "2025-04-21T11:52:00.817Z"
   },
   {
    "duration": 552,
    "start_time": "2025-04-21T11:52:10.105Z"
   },
   {
    "duration": 6,
    "start_time": "2025-04-21T11:54:17.903Z"
   },
   {
    "duration": 42,
    "start_time": "2025-04-21T11:54:37.096Z"
   },
   {
    "duration": 10,
    "start_time": "2025-04-21T11:54:49.390Z"
   },
   {
    "duration": 8,
    "start_time": "2025-04-21T11:55:11.837Z"
   },
   {
    "duration": 6,
    "start_time": "2025-04-21T11:55:18.184Z"
   },
   {
    "duration": 134,
    "start_time": "2025-04-21T11:55:58.304Z"
   },
   {
    "duration": 144,
    "start_time": "2025-04-21T11:56:11.397Z"
   },
   {
    "duration": 424,
    "start_time": "2025-04-21T11:56:20.732Z"
   },
   {
    "duration": 161,
    "start_time": "2025-04-21T11:56:25.830Z"
   },
   {
    "duration": 145,
    "start_time": "2025-04-21T11:56:30.353Z"
   },
   {
    "duration": 167,
    "start_time": "2025-04-21T11:56:33.904Z"
   },
   {
    "duration": 16,
    "start_time": "2025-04-21T11:58:18.364Z"
   },
   {
    "duration": 3,
    "start_time": "2025-04-21T11:59:35.107Z"
   },
   {
    "duration": 14,
    "start_time": "2025-04-21T11:59:39.717Z"
   },
   {
    "duration": 3,
    "start_time": "2025-04-21T11:59:47.608Z"
   },
   {
    "duration": 57,
    "start_time": "2025-04-21T11:59:48.130Z"
   },
   {
    "duration": 10,
    "start_time": "2025-04-21T11:59:48.642Z"
   },
   {
    "duration": 13,
    "start_time": "2025-04-21T11:59:48.897Z"
   },
   {
    "duration": 16,
    "start_time": "2025-04-21T11:59:49.512Z"
   },
   {
    "duration": 6,
    "start_time": "2025-04-21T11:59:51.163Z"
   },
   {
    "duration": 7,
    "start_time": "2025-04-21T11:59:52.325Z"
   },
   {
    "duration": 14,
    "start_time": "2025-04-21T11:59:53.553Z"
   },
   {
    "duration": 15,
    "start_time": "2025-04-21T12:00:33.653Z"
   },
   {
    "duration": 135,
    "start_time": "2025-04-21T12:01:12.933Z"
   },
   {
    "duration": 147,
    "start_time": "2025-04-21T12:02:39.250Z"
   },
   {
    "duration": 147,
    "start_time": "2025-04-21T12:03:07.693Z"
   },
   {
    "duration": 153,
    "start_time": "2025-04-21T12:03:15.339Z"
   },
   {
    "duration": 150,
    "start_time": "2025-04-21T12:03:20.787Z"
   },
   {
    "duration": 148,
    "start_time": "2025-04-21T12:03:35.896Z"
   },
   {
    "duration": 157,
    "start_time": "2025-04-21T12:03:52.484Z"
   },
   {
    "duration": 11,
    "start_time": "2025-04-21T12:07:09.333Z"
   },
   {
    "duration": 11,
    "start_time": "2025-04-21T12:07:19.734Z"
   },
   {
    "duration": 12,
    "start_time": "2025-04-21T12:07:47.615Z"
   },
   {
    "duration": 10,
    "start_time": "2025-04-21T12:08:21.987Z"
   },
   {
    "duration": 10,
    "start_time": "2025-04-21T12:15:02.184Z"
   },
   {
    "duration": 6,
    "start_time": "2025-04-21T12:15:54.256Z"
   },
   {
    "duration": 10,
    "start_time": "2025-04-21T12:16:13.715Z"
   },
   {
    "duration": 6,
    "start_time": "2025-04-21T12:16:18.781Z"
   },
   {
    "duration": 300,
    "start_time": "2025-04-21T12:16:35.393Z"
   },
   {
    "duration": 149,
    "start_time": "2025-04-21T12:16:47.979Z"
   },
   {
    "duration": 204,
    "start_time": "2025-04-21T12:17:33.018Z"
   },
   {
    "duration": 18872,
    "start_time": "2025-04-21T12:18:01.684Z"
   },
   {
    "duration": 192,
    "start_time": "2025-04-21T12:18:35.899Z"
   },
   {
    "duration": 154,
    "start_time": "2025-04-21T12:18:49.776Z"
   },
   {
    "duration": 209,
    "start_time": "2025-04-21T12:19:13.364Z"
   },
   {
    "duration": 178,
    "start_time": "2025-04-21T12:19:22.122Z"
   },
   {
    "duration": 181,
    "start_time": "2025-04-21T12:19:28.404Z"
   },
   {
    "duration": 176,
    "start_time": "2025-04-21T12:19:32.353Z"
   },
   {
    "duration": 161,
    "start_time": "2025-04-21T12:20:22.495Z"
   },
   {
    "duration": 187,
    "start_time": "2025-04-21T12:21:10.433Z"
   },
   {
    "duration": 206,
    "start_time": "2025-04-21T12:33:47.925Z"
   },
   {
    "duration": 174,
    "start_time": "2025-04-21T12:34:06.813Z"
   },
   {
    "duration": 11,
    "start_time": "2025-04-21T12:39:38.153Z"
   },
   {
    "duration": 28,
    "start_time": "2025-04-21T12:40:00.100Z"
   },
   {
    "duration": 20,
    "start_time": "2025-04-21T12:40:35.049Z"
   },
   {
    "duration": 22,
    "start_time": "2025-04-21T12:40:52.551Z"
   },
   {
    "duration": 6,
    "start_time": "2025-04-21T12:43:41.882Z"
   },
   {
    "duration": 21,
    "start_time": "2025-04-21T12:45:30.692Z"
   },
   {
    "duration": 15,
    "start_time": "2025-04-21T12:48:13.500Z"
   },
   {
    "duration": 19272,
    "start_time": "2025-04-21T12:51:22.365Z"
   },
   {
    "duration": 19,
    "start_time": "2025-04-21T12:51:45.478Z"
   },
   {
    "duration": 2733,
    "start_time": "2025-04-21T12:52:25.274Z"
   },
   {
    "duration": 178,
    "start_time": "2025-04-21T12:54:40.845Z"
   },
   {
    "duration": 634,
    "start_time": "2025-04-21T12:55:25.858Z"
   },
   {
    "duration": 203,
    "start_time": "2025-04-21T12:56:34.756Z"
   },
   {
    "duration": 258,
    "start_time": "2025-04-21T12:56:40.395Z"
   },
   {
    "duration": 184,
    "start_time": "2025-04-21T12:57:00.181Z"
   },
   {
    "duration": 197,
    "start_time": "2025-04-21T12:57:06.208Z"
   },
   {
    "duration": 699,
    "start_time": "2025-04-21T12:57:10.456Z"
   },
   {
    "duration": 218,
    "start_time": "2025-04-21T12:57:18.598Z"
   },
   {
    "duration": 197,
    "start_time": "2025-04-21T12:57:22.074Z"
   },
   {
    "duration": 178,
    "start_time": "2025-04-21T12:57:26.599Z"
   },
   {
    "duration": 221,
    "start_time": "2025-04-21T12:57:34.696Z"
   },
   {
    "duration": 177,
    "start_time": "2025-04-21T12:57:39.533Z"
   },
   {
    "duration": 201,
    "start_time": "2025-04-21T12:58:10.288Z"
   },
   {
    "duration": 212,
    "start_time": "2025-04-21T12:58:24.829Z"
   },
   {
    "duration": 11,
    "start_time": "2025-04-21T12:59:25.237Z"
   },
   {
    "duration": 10,
    "start_time": "2025-04-21T12:59:43.599Z"
   },
   {
    "duration": 209,
    "start_time": "2025-04-21T12:59:45.768Z"
   },
   {
    "duration": 10,
    "start_time": "2025-04-21T12:59:47.493Z"
   },
   {
    "duration": 14,
    "start_time": "2025-04-21T13:00:19.004Z"
   },
   {
    "duration": 16,
    "start_time": "2025-04-21T13:00:29.777Z"
   },
   {
    "duration": 21,
    "start_time": "2025-04-21T13:01:15.188Z"
   },
   {
    "duration": 18,
    "start_time": "2025-04-21T13:01:34.943Z"
   },
   {
    "duration": 21,
    "start_time": "2025-04-21T13:01:48.747Z"
   },
   {
    "duration": 17,
    "start_time": "2025-04-21T13:02:02.938Z"
   },
   {
    "duration": 16,
    "start_time": "2025-04-21T13:02:17.887Z"
   },
   {
    "duration": 207,
    "start_time": "2025-04-21T13:04:32.464Z"
   },
   {
    "duration": 225,
    "start_time": "2025-04-21T13:06:03.028Z"
   },
   {
    "duration": 632,
    "start_time": "2025-04-21T13:11:14.250Z"
   },
   {
    "duration": 976,
    "start_time": "2025-04-22T10:11:16.261Z"
   },
   {
    "duration": 74,
    "start_time": "2025-04-22T10:11:17.240Z"
   },
   {
    "duration": 25,
    "start_time": "2025-04-22T10:11:17.315Z"
   },
   {
    "duration": 19,
    "start_time": "2025-04-22T10:11:17.342Z"
   },
   {
    "duration": 60,
    "start_time": "2025-04-22T10:11:17.362Z"
   },
   {
    "duration": 9,
    "start_time": "2025-04-22T10:11:17.423Z"
   },
   {
    "duration": 6,
    "start_time": "2025-04-22T10:11:17.433Z"
   },
   {
    "duration": 14,
    "start_time": "2025-04-22T10:11:17.440Z"
   },
   {
    "duration": 28,
    "start_time": "2025-04-22T10:11:17.456Z"
   },
   {
    "duration": 5,
    "start_time": "2025-04-22T10:11:17.487Z"
   },
   {
    "duration": 23,
    "start_time": "2025-04-22T10:11:17.493Z"
   },
   {
    "duration": 207,
    "start_time": "2025-04-22T10:11:17.518Z"
   },
   {
    "duration": 9,
    "start_time": "2025-04-22T10:11:17.727Z"
   },
   {
    "duration": 35,
    "start_time": "2025-04-22T10:11:17.738Z"
   },
   {
    "duration": 219,
    "start_time": "2025-04-22T10:11:17.775Z"
   },
   {
    "duration": 253,
    "start_time": "2025-04-22T10:11:17.996Z"
   },
   {
    "duration": 262,
    "start_time": "2025-04-22T10:11:18.251Z"
   },
   {
    "duration": 712,
    "start_time": "2025-04-22T11:21:59.605Z"
   },
   {
    "duration": 61,
    "start_time": "2025-04-22T11:22:00.319Z"
   },
   {
    "duration": 24,
    "start_time": "2025-04-22T11:22:00.382Z"
   },
   {
    "duration": 22,
    "start_time": "2025-04-22T11:22:00.408Z"
   },
   {
    "duration": 15,
    "start_time": "2025-04-22T11:22:00.432Z"
   },
   {
    "duration": 41,
    "start_time": "2025-04-22T11:22:00.449Z"
   },
   {
    "duration": 45,
    "start_time": "2025-04-22T11:22:00.491Z"
   },
   {
    "duration": 54,
    "start_time": "2025-04-22T11:22:00.538Z"
   },
   {
    "duration": 30,
    "start_time": "2025-04-22T11:22:00.593Z"
   },
   {
    "duration": 87,
    "start_time": "2025-04-22T11:22:00.626Z"
   },
   {
    "duration": 29,
    "start_time": "2025-04-22T11:22:00.715Z"
   },
   {
    "duration": 211,
    "start_time": "2025-04-22T11:22:00.746Z"
   },
   {
    "duration": 21,
    "start_time": "2025-04-22T11:22:00.959Z"
   },
   {
    "duration": 36,
    "start_time": "2025-04-22T11:22:00.981Z"
   },
   {
    "duration": 290,
    "start_time": "2025-04-22T11:22:01.018Z"
   },
   {
    "duration": 267,
    "start_time": "2025-04-22T11:22:01.311Z"
   },
   {
    "duration": 267,
    "start_time": "2025-04-22T11:22:01.580Z"
   },
   {
    "duration": 670,
    "start_time": "2025-04-22T11:26:33.119Z"
   },
   {
    "duration": 73,
    "start_time": "2025-04-22T11:26:33.791Z"
   },
   {
    "duration": 22,
    "start_time": "2025-04-22T11:26:33.866Z"
   },
   {
    "duration": 26,
    "start_time": "2025-04-22T11:26:33.890Z"
   },
   {
    "duration": 16,
    "start_time": "2025-04-22T11:26:33.918Z"
   },
   {
    "duration": 26,
    "start_time": "2025-04-22T11:26:33.936Z"
   },
   {
    "duration": 12,
    "start_time": "2025-04-22T11:26:33.964Z"
   },
   {
    "duration": 22,
    "start_time": "2025-04-22T11:26:33.978Z"
   },
   {
    "duration": 20,
    "start_time": "2025-04-22T11:26:34.002Z"
   },
   {
    "duration": 18,
    "start_time": "2025-04-22T11:26:34.023Z"
   },
   {
    "duration": 30,
    "start_time": "2025-04-22T11:26:34.042Z"
   },
   {
    "duration": 205,
    "start_time": "2025-04-22T11:26:34.074Z"
   },
   {
    "duration": 10,
    "start_time": "2025-04-22T11:26:34.280Z"
   },
   {
    "duration": 40,
    "start_time": "2025-04-22T11:26:34.292Z"
   },
   {
    "duration": 218,
    "start_time": "2025-04-22T11:26:34.333Z"
   },
   {
    "duration": 244,
    "start_time": "2025-04-22T11:26:34.552Z"
   },
   {
    "duration": 241,
    "start_time": "2025-04-22T11:26:34.798Z"
   },
   {
    "duration": 20,
    "start_time": "2025-04-22T11:31:04.081Z"
   },
   {
    "duration": 21,
    "start_time": "2025-04-22T11:31:15.059Z"
   },
   {
    "duration": 32,
    "start_time": "2025-04-22T11:33:39.194Z"
   },
   {
    "duration": 16,
    "start_time": "2025-04-22T11:34:36.819Z"
   },
   {
    "duration": 11,
    "start_time": "2025-04-22T11:38:52.025Z"
   },
   {
    "duration": 16,
    "start_time": "2025-04-22T11:39:05.413Z"
   },
   {
    "duration": 39,
    "start_time": "2025-04-22T11:39:16.720Z"
   },
   {
    "duration": 9,
    "start_time": "2025-04-22T11:39:33.794Z"
   },
   {
    "duration": 81,
    "start_time": "2025-04-22T11:40:33.840Z"
   },
   {
    "duration": 12,
    "start_time": "2025-04-22T11:40:44.873Z"
   },
   {
    "duration": 9,
    "start_time": "2025-04-22T11:40:57.447Z"
   },
   {
    "duration": 28,
    "start_time": "2025-04-22T11:46:34.359Z"
   },
   {
    "duration": 694,
    "start_time": "2025-04-22T11:50:54.290Z"
   },
   {
    "duration": 63,
    "start_time": "2025-04-22T11:50:54.986Z"
   },
   {
    "duration": 101,
    "start_time": "2025-04-22T11:50:55.051Z"
   },
   {
    "duration": 21,
    "start_time": "2025-04-22T11:50:55.155Z"
   },
   {
    "duration": 94,
    "start_time": "2025-04-22T11:50:55.179Z"
   },
   {
    "duration": 12,
    "start_time": "2025-04-22T11:50:55.275Z"
   },
   {
    "duration": 9,
    "start_time": "2025-04-22T11:50:55.288Z"
   },
   {
    "duration": 12,
    "start_time": "2025-04-22T11:50:55.299Z"
   },
   {
    "duration": 14,
    "start_time": "2025-04-22T11:50:55.313Z"
   },
   {
    "duration": 17,
    "start_time": "2025-04-22T11:50:55.329Z"
   },
   {
    "duration": 32,
    "start_time": "2025-04-22T11:50:55.348Z"
   },
   {
    "duration": 211,
    "start_time": "2025-04-22T11:50:55.382Z"
   },
   {
    "duration": 10,
    "start_time": "2025-04-22T11:50:55.595Z"
   },
   {
    "duration": 23,
    "start_time": "2025-04-22T11:50:55.608Z"
   },
   {
    "duration": 213,
    "start_time": "2025-04-22T11:50:55.633Z"
   },
   {
    "duration": 265,
    "start_time": "2025-04-22T11:50:55.848Z"
   },
   {
    "duration": 251,
    "start_time": "2025-04-22T11:50:56.115Z"
   },
   {
    "duration": 16,
    "start_time": "2025-04-22T11:50:56.376Z"
   },
   {
    "duration": 53,
    "start_time": "2025-04-22T11:50:56.394Z"
   },
   {
    "duration": 725,
    "start_time": "2025-04-22T11:54:42.888Z"
   },
   {
    "duration": 60,
    "start_time": "2025-04-22T11:54:43.615Z"
   },
   {
    "duration": 22,
    "start_time": "2025-04-22T11:54:43.677Z"
   },
   {
    "duration": 41,
    "start_time": "2025-04-22T11:54:43.700Z"
   },
   {
    "duration": 15,
    "start_time": "2025-04-22T11:54:43.743Z"
   },
   {
    "duration": 20,
    "start_time": "2025-04-22T11:54:43.760Z"
   },
   {
    "duration": 10,
    "start_time": "2025-04-22T11:54:43.782Z"
   },
   {
    "duration": 13,
    "start_time": "2025-04-22T11:54:43.794Z"
   },
   {
    "duration": 15,
    "start_time": "2025-04-22T11:54:43.808Z"
   },
   {
    "duration": 6,
    "start_time": "2025-04-22T11:54:43.825Z"
   },
   {
    "duration": 46,
    "start_time": "2025-04-22T11:54:43.833Z"
   },
   {
    "duration": 215,
    "start_time": "2025-04-22T11:54:43.881Z"
   },
   {
    "duration": 10,
    "start_time": "2025-04-22T11:54:44.098Z"
   },
   {
    "duration": 7,
    "start_time": "2025-04-22T11:54:44.111Z"
   },
   {
    "duration": 231,
    "start_time": "2025-04-22T11:54:44.119Z"
   },
   {
    "duration": 245,
    "start_time": "2025-04-22T11:54:44.352Z"
   },
   {
    "duration": 257,
    "start_time": "2025-04-22T11:54:44.599Z"
   },
   {
    "duration": 31,
    "start_time": "2025-04-22T11:54:44.858Z"
   },
   {
    "duration": 20,
    "start_time": "2025-04-22T11:54:44.892Z"
   },
   {
    "duration": 505,
    "start_time": "2025-04-22T11:54:44.915Z"
   },
   {
    "duration": 746,
    "start_time": "2025-04-22T11:55:01.402Z"
   },
   {
    "duration": 64,
    "start_time": "2025-04-22T11:55:02.150Z"
   },
   {
    "duration": 24,
    "start_time": "2025-04-22T11:55:02.216Z"
   },
   {
    "duration": 76,
    "start_time": "2025-04-22T11:55:02.243Z"
   },
   {
    "duration": 15,
    "start_time": "2025-04-22T11:55:02.321Z"
   },
   {
    "duration": 80,
    "start_time": "2025-04-22T11:55:02.338Z"
   },
   {
    "duration": 80,
    "start_time": "2025-04-22T11:55:02.421Z"
   },
   {
    "duration": 28,
    "start_time": "2025-04-22T11:55:02.503Z"
   },
   {
    "duration": 19,
    "start_time": "2025-04-22T11:55:02.533Z"
   },
   {
    "duration": 6,
    "start_time": "2025-04-22T11:55:02.555Z"
   },
   {
    "duration": 29,
    "start_time": "2025-04-22T11:55:02.563Z"
   },
   {
    "duration": 216,
    "start_time": "2025-04-22T11:55:02.594Z"
   },
   {
    "duration": 12,
    "start_time": "2025-04-22T11:55:02.812Z"
   },
   {
    "duration": 27,
    "start_time": "2025-04-22T11:55:02.826Z"
   },
   {
    "duration": 259,
    "start_time": "2025-04-22T11:55:02.855Z"
   },
   {
    "duration": 262,
    "start_time": "2025-04-22T11:55:03.116Z"
   },
   {
    "duration": 263,
    "start_time": "2025-04-22T11:55:03.380Z"
   },
   {
    "duration": 16,
    "start_time": "2025-04-22T11:55:03.645Z"
   },
   {
    "duration": 97,
    "start_time": "2025-04-22T11:55:03.663Z"
   },
   {
    "duration": 702,
    "start_time": "2025-04-22T11:55:30.501Z"
   },
   {
    "duration": 62,
    "start_time": "2025-04-22T11:55:31.205Z"
   },
   {
    "duration": 47,
    "start_time": "2025-04-22T11:55:31.270Z"
   },
   {
    "duration": 19,
    "start_time": "2025-04-22T11:55:31.320Z"
   },
   {
    "duration": 25,
    "start_time": "2025-04-22T11:55:31.341Z"
   },
   {
    "duration": 40,
    "start_time": "2025-04-22T11:55:31.368Z"
   },
   {
    "duration": 14,
    "start_time": "2025-04-22T11:55:31.410Z"
   },
   {
    "duration": 33,
    "start_time": "2025-04-22T11:55:31.426Z"
   },
   {
    "duration": 19,
    "start_time": "2025-04-22T11:55:31.461Z"
   },
   {
    "duration": 6,
    "start_time": "2025-04-22T11:55:31.482Z"
   },
   {
    "duration": 9,
    "start_time": "2025-04-22T11:55:31.491Z"
   },
   {
    "duration": 223,
    "start_time": "2025-04-22T11:55:31.502Z"
   },
   {
    "duration": 10,
    "start_time": "2025-04-22T11:55:31.727Z"
   },
   {
    "duration": 7,
    "start_time": "2025-04-22T11:55:31.740Z"
   },
   {
    "duration": 230,
    "start_time": "2025-04-22T11:55:31.749Z"
   },
   {
    "duration": 286,
    "start_time": "2025-04-22T11:55:31.981Z"
   },
   {
    "duration": 248,
    "start_time": "2025-04-22T11:55:32.276Z"
   },
   {
    "duration": 16,
    "start_time": "2025-04-22T11:55:32.525Z"
   },
   {
    "duration": 48,
    "start_time": "2025-04-22T11:55:32.543Z"
   },
   {
    "duration": 404,
    "start_time": "2025-04-22T11:55:32.593Z"
   },
   {
    "duration": 388,
    "start_time": "2025-04-22T11:55:59.202Z"
   },
   {
    "duration": 383,
    "start_time": "2025-04-22T11:56:29.819Z"
   },
   {
    "duration": 374,
    "start_time": "2025-04-22T11:57:09.242Z"
   },
   {
    "duration": 458,
    "start_time": "2025-04-22T12:00:47.445Z"
   },
   {
    "duration": 386,
    "start_time": "2025-04-22T12:01:33.138Z"
   },
   {
    "duration": 14,
    "start_time": "2025-04-22T12:09:08.597Z"
   },
   {
    "duration": 770,
    "start_time": "2025-04-22T17:08:25.935Z"
   },
   {
    "duration": 69,
    "start_time": "2025-04-22T17:08:26.708Z"
   },
   {
    "duration": 21,
    "start_time": "2025-04-22T17:08:26.779Z"
   },
   {
    "duration": 19,
    "start_time": "2025-04-22T17:08:26.802Z"
   },
   {
    "duration": 12,
    "start_time": "2025-04-22T17:08:26.823Z"
   },
   {
    "duration": 8,
    "start_time": "2025-04-22T17:08:26.837Z"
   },
   {
    "duration": 8,
    "start_time": "2025-04-22T17:08:26.846Z"
   },
   {
    "duration": 10,
    "start_time": "2025-04-22T17:08:26.855Z"
   },
   {
    "duration": 12,
    "start_time": "2025-04-22T17:08:26.866Z"
   },
   {
    "duration": 4,
    "start_time": "2025-04-22T17:08:26.879Z"
   },
   {
    "duration": 5,
    "start_time": "2025-04-22T17:08:26.885Z"
   },
   {
    "duration": 200,
    "start_time": "2025-04-22T17:08:26.891Z"
   },
   {
    "duration": 8,
    "start_time": "2025-04-22T17:08:27.093Z"
   },
   {
    "duration": 5,
    "start_time": "2025-04-22T17:08:27.103Z"
   },
   {
    "duration": 191,
    "start_time": "2025-04-22T17:08:27.109Z"
   },
   {
    "duration": 207,
    "start_time": "2025-04-22T17:08:27.301Z"
   },
   {
    "duration": 243,
    "start_time": "2025-04-22T17:08:27.509Z"
   },
   {
    "duration": 13,
    "start_time": "2025-04-22T17:08:27.753Z"
   },
   {
    "duration": 17,
    "start_time": "2025-04-22T17:08:27.767Z"
   },
   {
    "duration": 490,
    "start_time": "2025-04-22T17:08:27.785Z"
   },
   {
    "duration": 357,
    "start_time": "2025-04-22T17:08:28.276Z"
   },
   {
    "duration": 350,
    "start_time": "2025-04-22T17:08:28.639Z"
   },
   {
    "duration": 371,
    "start_time": "2025-04-22T17:08:28.992Z"
   },
   {
    "duration": 12,
    "start_time": "2025-04-22T17:08:29.365Z"
   },
   {
    "duration": 214,
    "start_time": "2025-04-22T17:08:29.380Z"
   },
   {
    "duration": 76,
    "start_time": "2025-04-22T17:10:18.937Z"
   },
   {
    "duration": 8,
    "start_time": "2025-04-22T17:10:50.285Z"
   },
   {
    "duration": 23,
    "start_time": "2025-04-22T17:11:53.005Z"
   },
   {
    "duration": 25,
    "start_time": "2025-04-22T17:12:34.932Z"
   },
   {
    "duration": 25,
    "start_time": "2025-04-22T17:13:05.332Z"
   },
   {
    "duration": 16,
    "start_time": "2025-04-22T17:13:17.056Z"
   },
   {
    "duration": 22,
    "start_time": "2025-04-22T17:16:20.125Z"
   },
   {
    "duration": 7,
    "start_time": "2025-04-22T17:20:29.950Z"
   },
   {
    "duration": 674,
    "start_time": "2025-04-22T17:20:39.507Z"
   },
   {
    "duration": 55,
    "start_time": "2025-04-22T17:20:40.182Z"
   },
   {
    "duration": 20,
    "start_time": "2025-04-22T17:20:40.238Z"
   },
   {
    "duration": 18,
    "start_time": "2025-04-22T17:20:40.260Z"
   },
   {
    "duration": 55,
    "start_time": "2025-04-22T17:20:40.281Z"
   },
   {
    "duration": 16,
    "start_time": "2025-04-22T17:20:40.337Z"
   },
   {
    "duration": 22,
    "start_time": "2025-04-22T17:20:40.355Z"
   },
   {
    "duration": 26,
    "start_time": "2025-04-22T17:20:40.379Z"
   },
   {
    "duration": 24,
    "start_time": "2025-04-22T17:20:40.407Z"
   },
   {
    "duration": 26,
    "start_time": "2025-04-22T17:20:40.433Z"
   },
   {
    "duration": 24,
    "start_time": "2025-04-22T17:20:40.462Z"
   },
   {
    "duration": 185,
    "start_time": "2025-04-22T17:20:40.487Z"
   },
   {
    "duration": 9,
    "start_time": "2025-04-22T17:20:40.674Z"
   },
   {
    "duration": 7,
    "start_time": "2025-04-22T17:20:40.686Z"
   },
   {
    "duration": 198,
    "start_time": "2025-04-22T17:20:40.695Z"
   },
   {
    "duration": 233,
    "start_time": "2025-04-22T17:20:40.895Z"
   },
   {
    "duration": 214,
    "start_time": "2025-04-22T17:20:41.142Z"
   },
   {
    "duration": 13,
    "start_time": "2025-04-22T17:20:41.357Z"
   },
   {
    "duration": 16,
    "start_time": "2025-04-22T17:20:41.372Z"
   },
   {
    "duration": 440,
    "start_time": "2025-04-22T17:20:41.390Z"
   },
   {
    "duration": 338,
    "start_time": "2025-04-22T17:20:41.832Z"
   },
   {
    "duration": 386,
    "start_time": "2025-04-22T17:20:42.172Z"
   },
   {
    "duration": 406,
    "start_time": "2025-04-22T17:20:42.560Z"
   },
   {
    "duration": 12,
    "start_time": "2025-04-22T17:20:42.968Z"
   },
   {
    "duration": 54,
    "start_time": "2025-04-22T17:20:42.981Z"
   },
   {
    "duration": 1108,
    "start_time": "2025-04-22T17:20:43.037Z"
   },
   {
    "duration": 1098,
    "start_time": "2025-04-22T17:21:49.250Z"
   },
   {
    "duration": 8,
    "start_time": "2025-04-22T17:22:24.655Z"
   },
   {
    "duration": 9,
    "start_time": "2025-04-22T17:22:54.203Z"
   },
   {
    "duration": 5,
    "start_time": "2025-04-22T17:23:05.679Z"
   },
   {
    "duration": 5,
    "start_time": "2025-04-22T17:23:39.768Z"
   },
   {
    "duration": 12,
    "start_time": "2025-04-22T17:25:18.843Z"
   },
   {
    "duration": 7,
    "start_time": "2025-04-22T17:25:44.714Z"
   },
   {
    "duration": 8,
    "start_time": "2025-04-22T17:27:42.771Z"
   },
   {
    "duration": 14,
    "start_time": "2025-04-22T17:28:36.512Z"
   },
   {
    "duration": 24,
    "start_time": "2025-04-22T17:28:48.989Z"
   },
   {
    "duration": 30,
    "start_time": "2025-04-22T17:28:58.056Z"
   },
   {
    "duration": 26,
    "start_time": "2025-04-22T17:29:20.445Z"
   },
   {
    "duration": 22,
    "start_time": "2025-04-22T17:29:33.360Z"
   },
   {
    "duration": 7,
    "start_time": "2025-04-22T17:29:34.569Z"
   },
   {
    "duration": 8,
    "start_time": "2025-04-22T17:30:05.156Z"
   },
   {
    "duration": 10,
    "start_time": "2025-04-22T17:32:13.504Z"
   },
   {
    "duration": 683,
    "start_time": "2025-04-22T17:34:27.016Z"
   },
   {
    "duration": 56,
    "start_time": "2025-04-22T17:34:27.701Z"
   },
   {
    "duration": 19,
    "start_time": "2025-04-22T17:34:27.759Z"
   },
   {
    "duration": 23,
    "start_time": "2025-04-22T17:34:27.780Z"
   },
   {
    "duration": 16,
    "start_time": "2025-04-22T17:34:27.804Z"
   },
   {
    "duration": 17,
    "start_time": "2025-04-22T17:34:27.822Z"
   },
   {
    "duration": 10,
    "start_time": "2025-04-22T17:34:27.841Z"
   },
   {
    "duration": 24,
    "start_time": "2025-04-22T17:34:27.852Z"
   },
   {
    "duration": 30,
    "start_time": "2025-04-22T17:34:27.878Z"
   },
   {
    "duration": 12,
    "start_time": "2025-04-22T17:34:27.910Z"
   },
   {
    "duration": 13,
    "start_time": "2025-04-22T17:34:27.923Z"
   },
   {
    "duration": 178,
    "start_time": "2025-04-22T17:34:27.938Z"
   },
   {
    "duration": 9,
    "start_time": "2025-04-22T17:34:28.118Z"
   },
   {
    "duration": 13,
    "start_time": "2025-04-22T17:34:28.128Z"
   },
   {
    "duration": 188,
    "start_time": "2025-04-22T17:34:28.142Z"
   },
   {
    "duration": 210,
    "start_time": "2025-04-22T17:34:28.332Z"
   },
   {
    "duration": 219,
    "start_time": "2025-04-22T17:34:28.544Z"
   },
   {
    "duration": 15,
    "start_time": "2025-04-22T17:34:28.765Z"
   },
   {
    "duration": 17,
    "start_time": "2025-04-22T17:34:28.781Z"
   },
   {
    "duration": 426,
    "start_time": "2025-04-22T17:34:28.800Z"
   },
   {
    "duration": 333,
    "start_time": "2025-04-22T17:34:29.228Z"
   },
   {
    "duration": 377,
    "start_time": "2025-04-22T17:34:29.562Z"
   },
   {
    "duration": 358,
    "start_time": "2025-04-22T17:34:29.941Z"
   },
   {
    "duration": 13,
    "start_time": "2025-04-22T17:34:30.300Z"
   },
   {
    "duration": 98,
    "start_time": "2025-04-22T17:34:30.314Z"
   },
   {
    "duration": 19,
    "start_time": "2025-04-22T17:34:30.413Z"
   },
   {
    "duration": 16,
    "start_time": "2025-04-22T17:34:47.894Z"
   },
   {
    "duration": 10,
    "start_time": "2025-04-22T17:35:38.247Z"
   },
   {
    "duration": 3,
    "start_time": "2025-04-22T17:45:33.848Z"
   },
   {
    "duration": 115,
    "start_time": "2025-04-22T17:46:23.074Z"
   },
   {
    "duration": 11,
    "start_time": "2025-04-22T17:48:00.721Z"
   },
   {
    "duration": 6,
    "start_time": "2025-04-22T17:53:59.189Z"
   },
   {
    "duration": 8,
    "start_time": "2025-04-22T17:54:10.622Z"
   },
   {
    "duration": 14,
    "start_time": "2025-04-22T17:59:18.423Z"
   },
   {
    "duration": 9,
    "start_time": "2025-04-22T17:59:49.624Z"
   },
   {
    "duration": 8,
    "start_time": "2025-04-22T18:00:29.866Z"
   },
   {
    "duration": 11,
    "start_time": "2025-04-22T18:00:51.567Z"
   },
   {
    "duration": 16,
    "start_time": "2025-04-22T18:09:25.545Z"
   },
   {
    "duration": 17,
    "start_time": "2025-04-22T18:09:29.938Z"
   },
   {
    "duration": 14,
    "start_time": "2025-04-22T18:09:33.659Z"
   },
   {
    "duration": 13,
    "start_time": "2025-04-22T18:10:14.087Z"
   },
   {
    "duration": 15,
    "start_time": "2025-04-22T18:11:06.591Z"
   },
   {
    "duration": 79,
    "start_time": "2025-04-22T18:12:56.474Z"
   },
   {
    "duration": 187,
    "start_time": "2025-04-22T18:13:03.035Z"
   },
   {
    "duration": 212,
    "start_time": "2025-04-22T18:13:16.829Z"
   },
   {
    "duration": 177,
    "start_time": "2025-04-22T18:13:23.499Z"
   },
   {
    "duration": 73,
    "start_time": "2025-04-22T18:14:02.153Z"
   },
   {
    "duration": 284,
    "start_time": "2025-04-22T18:14:09.742Z"
   },
   {
    "duration": 151,
    "start_time": "2025-04-22T18:14:24.806Z"
   },
   {
    "duration": 130,
    "start_time": "2025-04-22T18:14:54.860Z"
   },
   {
    "duration": 383,
    "start_time": "2025-04-22T18:15:07.669Z"
   },
   {
    "duration": 357,
    "start_time": "2025-04-22T18:15:29.421Z"
   },
   {
    "duration": 347,
    "start_time": "2025-04-22T18:15:34.780Z"
   },
   {
    "duration": 335,
    "start_time": "2025-04-22T18:15:48.624Z"
   },
   {
    "duration": 349,
    "start_time": "2025-04-22T18:16:08.052Z"
   },
   {
    "duration": 364,
    "start_time": "2025-04-22T18:16:41.780Z"
   },
   {
    "duration": 708,
    "start_time": "2025-04-22T19:17:08.958Z"
   },
   {
    "duration": 61,
    "start_time": "2025-04-22T19:17:09.668Z"
   },
   {
    "duration": 20,
    "start_time": "2025-04-22T19:17:09.730Z"
   },
   {
    "duration": 44,
    "start_time": "2025-04-22T19:17:09.752Z"
   },
   {
    "duration": 15,
    "start_time": "2025-04-22T19:17:09.799Z"
   },
   {
    "duration": 23,
    "start_time": "2025-04-22T19:17:09.816Z"
   },
   {
    "duration": 29,
    "start_time": "2025-04-22T19:17:09.841Z"
   },
   {
    "duration": 22,
    "start_time": "2025-04-22T19:17:09.872Z"
   },
   {
    "duration": 14,
    "start_time": "2025-04-22T19:17:09.895Z"
   },
   {
    "duration": 4,
    "start_time": "2025-04-22T19:17:09.911Z"
   },
   {
    "duration": 53,
    "start_time": "2025-04-22T19:17:09.917Z"
   },
   {
    "duration": 203,
    "start_time": "2025-04-22T19:17:09.972Z"
   },
   {
    "duration": 9,
    "start_time": "2025-04-22T19:17:10.177Z"
   },
   {
    "duration": 30,
    "start_time": "2025-04-22T19:17:10.188Z"
   },
   {
    "duration": 213,
    "start_time": "2025-04-22T19:17:10.220Z"
   },
   {
    "duration": 234,
    "start_time": "2025-04-22T19:17:10.435Z"
   },
   {
    "duration": 245,
    "start_time": "2025-04-22T19:17:10.671Z"
   },
   {
    "duration": 16,
    "start_time": "2025-04-22T19:17:10.917Z"
   },
   {
    "duration": 37,
    "start_time": "2025-04-22T19:17:10.935Z"
   },
   {
    "duration": 439,
    "start_time": "2025-04-22T19:17:10.974Z"
   },
   {
    "duration": 386,
    "start_time": "2025-04-22T19:17:11.415Z"
   },
   {
    "duration": 383,
    "start_time": "2025-04-22T19:17:11.803Z"
   },
   {
    "duration": 402,
    "start_time": "2025-04-22T19:17:12.187Z"
   },
   {
    "duration": 25,
    "start_time": "2025-04-22T19:17:12.590Z"
   },
   {
    "duration": 9,
    "start_time": "2025-04-22T19:17:12.618Z"
   },
   {
    "duration": 34,
    "start_time": "2025-04-22T19:17:12.629Z"
   },
   {
    "duration": 8,
    "start_time": "2025-04-22T19:17:12.665Z"
   },
   {
    "duration": 19,
    "start_time": "2025-04-22T19:17:12.674Z"
   },
   {
    "duration": 7,
    "start_time": "2025-04-22T19:22:35.115Z"
   },
   {
    "duration": 91,
    "start_time": "2025-04-22T19:36:38.271Z"
   },
   {
    "duration": 859,
    "start_time": "2025-04-22T19:36:47.746Z"
   },
   {
    "duration": 74,
    "start_time": "2025-04-22T19:36:48.607Z"
   },
   {
    "duration": 23,
    "start_time": "2025-04-22T19:36:48.683Z"
   },
   {
    "duration": 18,
    "start_time": "2025-04-22T19:36:48.709Z"
   },
   {
    "duration": 15,
    "start_time": "2025-04-22T19:36:48.729Z"
   },
   {
    "duration": 9,
    "start_time": "2025-04-22T19:36:48.746Z"
   },
   {
    "duration": 5,
    "start_time": "2025-04-22T19:36:48.757Z"
   },
   {
    "duration": 52,
    "start_time": "2025-04-22T19:36:48.764Z"
   },
   {
    "duration": 15,
    "start_time": "2025-04-22T19:36:48.818Z"
   },
   {
    "duration": 6,
    "start_time": "2025-04-22T19:36:48.835Z"
   },
   {
    "duration": 10,
    "start_time": "2025-04-22T19:36:48.842Z"
   },
   {
    "duration": 239,
    "start_time": "2025-04-22T19:36:48.853Z"
   },
   {
    "duration": 17,
    "start_time": "2025-04-22T19:36:49.093Z"
   },
   {
    "duration": 7,
    "start_time": "2025-04-22T19:36:49.112Z"
   },
   {
    "duration": 227,
    "start_time": "2025-04-22T19:36:49.121Z"
   },
   {
    "duration": 260,
    "start_time": "2025-04-22T19:36:49.350Z"
   },
   {
    "duration": 276,
    "start_time": "2025-04-22T19:36:49.612Z"
   },
   {
    "duration": 30,
    "start_time": "2025-04-22T19:36:49.890Z"
   },
   {
    "duration": 22,
    "start_time": "2025-04-22T19:36:49.922Z"
   },
   {
    "duration": 504,
    "start_time": "2025-04-22T19:36:49.946Z"
   },
   {
    "duration": 399,
    "start_time": "2025-04-22T19:36:50.453Z"
   },
   {
    "duration": 384,
    "start_time": "2025-04-22T19:36:50.854Z"
   },
   {
    "duration": 421,
    "start_time": "2025-04-22T19:36:51.239Z"
   },
   {
    "duration": 25,
    "start_time": "2025-04-22T19:36:51.662Z"
   },
   {
    "duration": 22,
    "start_time": "2025-04-22T19:36:51.689Z"
   },
   {
    "duration": 27,
    "start_time": "2025-04-22T19:36:51.713Z"
   },
   {
    "duration": 31,
    "start_time": "2025-04-22T19:36:51.742Z"
   },
   {
    "duration": 24,
    "start_time": "2025-04-22T19:36:51.776Z"
   },
   {
    "duration": 97,
    "start_time": "2025-04-22T19:37:13.288Z"
   },
   {
    "duration": 398,
    "start_time": "2025-04-22T19:40:26.236Z"
   },
   {
    "duration": 231,
    "start_time": "2025-04-22T19:40:41.318Z"
   },
   {
    "duration": 305,
    "start_time": "2025-04-22T19:41:53.386Z"
   },
   {
    "duration": 3,
    "start_time": "2025-04-22T19:44:45.033Z"
   },
   {
    "duration": 3,
    "start_time": "2025-04-22T19:44:59.985Z"
   },
   {
    "duration": 7,
    "start_time": "2025-04-22T19:45:18.942Z"
   },
   {
    "duration": 4,
    "start_time": "2025-04-22T19:45:22.989Z"
   },
   {
    "duration": 35,
    "start_time": "2025-04-22T19:48:59.001Z"
   },
   {
    "duration": 43,
    "start_time": "2025-04-22T19:49:11.115Z"
   },
   {
    "duration": 25,
    "start_time": "2025-04-22T19:49:22.978Z"
   },
   {
    "duration": 455,
    "start_time": "2025-04-22T19:54:07.451Z"
   },
   {
    "duration": 3,
    "start_time": "2025-04-22T19:57:17.115Z"
   },
   {
    "duration": 9,
    "start_time": "2025-04-22T20:00:43.286Z"
   },
   {
    "duration": 9,
    "start_time": "2025-04-22T20:01:08.361Z"
   },
   {
    "duration": 9,
    "start_time": "2025-04-22T20:01:37.250Z"
   },
   {
    "duration": 111,
    "start_time": "2025-04-22T20:04:25.352Z"
   },
   {
    "duration": 20,
    "start_time": "2025-04-22T20:04:32.035Z"
   },
   {
    "duration": 3,
    "start_time": "2025-04-22T20:05:11.491Z"
   },
   {
    "duration": 21,
    "start_time": "2025-04-22T20:05:20.025Z"
   },
   {
    "duration": 15,
    "start_time": "2025-04-22T20:05:34.590Z"
   },
   {
    "duration": 14,
    "start_time": "2025-04-22T20:06:47.945Z"
   },
   {
    "duration": 15,
    "start_time": "2025-04-22T20:07:11.648Z"
   },
   {
    "duration": 13,
    "start_time": "2025-04-22T20:07:16.160Z"
   },
   {
    "duration": 14,
    "start_time": "2025-04-22T20:07:28.201Z"
   },
   {
    "duration": 21,
    "start_time": "2025-04-22T20:14:00.063Z"
   },
   {
    "duration": 10,
    "start_time": "2025-04-22T20:14:59.199Z"
   },
   {
    "duration": 13,
    "start_time": "2025-04-22T20:31:18.011Z"
   },
   {
    "duration": 15,
    "start_time": "2025-04-22T20:32:25.859Z"
   },
   {
    "duration": 13,
    "start_time": "2025-04-22T20:34:39.565Z"
   },
   {
    "duration": 13,
    "start_time": "2025-04-22T20:35:42.586Z"
   },
   {
    "duration": 1137,
    "start_time": "2025-04-22T20:36:49.149Z"
   },
   {
    "duration": 60,
    "start_time": "2025-04-22T20:36:50.288Z"
   },
   {
    "duration": 22,
    "start_time": "2025-04-22T20:36:50.349Z"
   },
   {
    "duration": 46,
    "start_time": "2025-04-22T20:36:50.373Z"
   },
   {
    "duration": 14,
    "start_time": "2025-04-22T20:36:50.421Z"
   },
   {
    "duration": 12,
    "start_time": "2025-04-22T20:36:50.437Z"
   },
   {
    "duration": 9,
    "start_time": "2025-04-22T20:36:50.451Z"
   },
   {
    "duration": 11,
    "start_time": "2025-04-22T20:36:50.462Z"
   },
   {
    "duration": 44,
    "start_time": "2025-04-22T20:36:50.475Z"
   },
   {
    "duration": 5,
    "start_time": "2025-04-22T20:36:50.521Z"
   },
   {
    "duration": 33,
    "start_time": "2025-04-22T20:36:50.528Z"
   },
   {
    "duration": 205,
    "start_time": "2025-04-22T20:36:50.563Z"
   },
   {
    "duration": 8,
    "start_time": "2025-04-22T20:36:50.770Z"
   },
   {
    "duration": 110,
    "start_time": "2025-04-22T20:36:50.779Z"
   },
   {
    "duration": 18,
    "start_time": "2025-04-22T20:36:50.891Z"
   },
   {
    "duration": 222,
    "start_time": "2025-04-22T20:36:50.911Z"
   },
   {
    "duration": 349,
    "start_time": "2025-04-22T20:36:51.135Z"
   },
   {
    "duration": 0,
    "start_time": "2025-04-22T20:36:51.486Z"
   },
   {
    "duration": 0,
    "start_time": "2025-04-22T20:36:51.487Z"
   },
   {
    "duration": 0,
    "start_time": "2025-04-22T20:36:51.488Z"
   },
   {
    "duration": 0,
    "start_time": "2025-04-22T20:36:51.489Z"
   },
   {
    "duration": 0,
    "start_time": "2025-04-22T20:36:51.490Z"
   },
   {
    "duration": 0,
    "start_time": "2025-04-22T20:36:51.505Z"
   },
   {
    "duration": 0,
    "start_time": "2025-04-22T20:36:51.507Z"
   },
   {
    "duration": 0,
    "start_time": "2025-04-22T20:36:51.508Z"
   },
   {
    "duration": 0,
    "start_time": "2025-04-22T20:36:51.509Z"
   },
   {
    "duration": 0,
    "start_time": "2025-04-22T20:36:51.510Z"
   },
   {
    "duration": 0,
    "start_time": "2025-04-22T20:36:51.511Z"
   },
   {
    "duration": 0,
    "start_time": "2025-04-22T20:36:51.513Z"
   },
   {
    "duration": 0,
    "start_time": "2025-04-22T20:36:51.514Z"
   },
   {
    "duration": 0,
    "start_time": "2025-04-22T20:36:51.515Z"
   },
   {
    "duration": 11,
    "start_time": "2025-04-22T20:37:10.970Z"
   },
   {
    "duration": 1230,
    "start_time": "2025-04-22T20:37:18.251Z"
   },
   {
    "duration": 62,
    "start_time": "2025-04-22T20:37:19.483Z"
   },
   {
    "duration": 23,
    "start_time": "2025-04-22T20:37:19.547Z"
   },
   {
    "duration": 18,
    "start_time": "2025-04-22T20:37:19.573Z"
   },
   {
    "duration": 16,
    "start_time": "2025-04-22T20:37:19.593Z"
   },
   {
    "duration": 18,
    "start_time": "2025-04-22T20:37:19.611Z"
   },
   {
    "duration": 29,
    "start_time": "2025-04-22T20:37:19.631Z"
   },
   {
    "duration": 14,
    "start_time": "2025-04-22T20:37:19.661Z"
   },
   {
    "duration": 21,
    "start_time": "2025-04-22T20:37:19.677Z"
   },
   {
    "duration": 5,
    "start_time": "2025-04-22T20:37:19.701Z"
   },
   {
    "duration": 7,
    "start_time": "2025-04-22T20:37:19.708Z"
   },
   {
    "duration": 210,
    "start_time": "2025-04-22T20:37:19.717Z"
   },
   {
    "duration": 9,
    "start_time": "2025-04-22T20:37:19.929Z"
   },
   {
    "duration": 118,
    "start_time": "2025-04-22T20:37:19.941Z"
   },
   {
    "duration": 7,
    "start_time": "2025-04-22T20:37:20.062Z"
   },
   {
    "duration": 228,
    "start_time": "2025-04-22T20:37:20.071Z"
   },
   {
    "duration": 346,
    "start_time": "2025-04-22T20:37:20.306Z"
   },
   {
    "duration": 0,
    "start_time": "2025-04-22T20:37:20.654Z"
   },
   {
    "duration": 0,
    "start_time": "2025-04-22T20:37:20.656Z"
   },
   {
    "duration": 0,
    "start_time": "2025-04-22T20:37:20.657Z"
   },
   {
    "duration": 0,
    "start_time": "2025-04-22T20:37:20.658Z"
   },
   {
    "duration": 0,
    "start_time": "2025-04-22T20:37:20.659Z"
   },
   {
    "duration": 0,
    "start_time": "2025-04-22T20:37:20.661Z"
   },
   {
    "duration": 0,
    "start_time": "2025-04-22T20:37:20.662Z"
   },
   {
    "duration": 0,
    "start_time": "2025-04-22T20:37:20.663Z"
   },
   {
    "duration": 0,
    "start_time": "2025-04-22T20:37:20.664Z"
   },
   {
    "duration": 0,
    "start_time": "2025-04-22T20:37:20.666Z"
   },
   {
    "duration": 0,
    "start_time": "2025-04-22T20:37:20.667Z"
   },
   {
    "duration": 0,
    "start_time": "2025-04-22T20:37:20.668Z"
   },
   {
    "duration": 0,
    "start_time": "2025-04-22T20:37:20.669Z"
   },
   {
    "duration": 0,
    "start_time": "2025-04-22T20:37:20.670Z"
   },
   {
    "duration": 245,
    "start_time": "2025-04-22T20:38:06.438Z"
   },
   {
    "duration": 1197,
    "start_time": "2025-04-22T20:38:12.704Z"
   },
   {
    "duration": 60,
    "start_time": "2025-04-22T20:38:13.903Z"
   },
   {
    "duration": 23,
    "start_time": "2025-04-22T20:38:13.965Z"
   },
   {
    "duration": 19,
    "start_time": "2025-04-22T20:38:13.990Z"
   },
   {
    "duration": 19,
    "start_time": "2025-04-22T20:38:14.010Z"
   },
   {
    "duration": 9,
    "start_time": "2025-04-22T20:38:14.031Z"
   },
   {
    "duration": 5,
    "start_time": "2025-04-22T20:38:14.041Z"
   },
   {
    "duration": 15,
    "start_time": "2025-04-22T20:38:14.047Z"
   },
   {
    "duration": 42,
    "start_time": "2025-04-22T20:38:14.064Z"
   },
   {
    "duration": 6,
    "start_time": "2025-04-22T20:38:14.109Z"
   },
   {
    "duration": 9,
    "start_time": "2025-04-22T20:38:14.116Z"
   },
   {
    "duration": 222,
    "start_time": "2025-04-22T20:38:14.127Z"
   },
   {
    "duration": 9,
    "start_time": "2025-04-22T20:38:14.352Z"
   },
   {
    "duration": 117,
    "start_time": "2025-04-22T20:38:14.363Z"
   },
   {
    "duration": 7,
    "start_time": "2025-04-22T20:38:14.482Z"
   },
   {
    "duration": 221,
    "start_time": "2025-04-22T20:38:14.506Z"
   },
   {
    "duration": 255,
    "start_time": "2025-04-22T20:38:14.729Z"
   },
   {
    "duration": 123,
    "start_time": "2025-04-22T20:38:14.987Z"
   },
   {
    "duration": 0,
    "start_time": "2025-04-22T20:38:15.114Z"
   },
   {
    "duration": 0,
    "start_time": "2025-04-22T20:38:15.116Z"
   },
   {
    "duration": 0,
    "start_time": "2025-04-22T20:38:15.117Z"
   },
   {
    "duration": 1,
    "start_time": "2025-04-22T20:38:15.118Z"
   },
   {
    "duration": 0,
    "start_time": "2025-04-22T20:38:15.120Z"
   },
   {
    "duration": 0,
    "start_time": "2025-04-22T20:38:15.121Z"
   },
   {
    "duration": 0,
    "start_time": "2025-04-22T20:38:15.122Z"
   },
   {
    "duration": 0,
    "start_time": "2025-04-22T20:38:15.124Z"
   },
   {
    "duration": 0,
    "start_time": "2025-04-22T20:38:15.125Z"
   },
   {
    "duration": 0,
    "start_time": "2025-04-22T20:38:15.127Z"
   },
   {
    "duration": 0,
    "start_time": "2025-04-22T20:38:15.128Z"
   },
   {
    "duration": 0,
    "start_time": "2025-04-22T20:38:15.130Z"
   },
   {
    "duration": 0,
    "start_time": "2025-04-22T20:38:15.131Z"
   },
   {
    "duration": 1240,
    "start_time": "2025-04-22T20:39:28.914Z"
   },
   {
    "duration": 65,
    "start_time": "2025-04-22T20:39:30.156Z"
   },
   {
    "duration": 32,
    "start_time": "2025-04-22T20:39:30.223Z"
   },
   {
    "duration": 86,
    "start_time": "2025-04-22T20:39:30.257Z"
   },
   {
    "duration": 79,
    "start_time": "2025-04-22T20:39:30.345Z"
   },
   {
    "duration": 8,
    "start_time": "2025-04-22T20:39:30.425Z"
   },
   {
    "duration": 9,
    "start_time": "2025-04-22T20:39:30.435Z"
   },
   {
    "duration": 50,
    "start_time": "2025-04-22T20:39:30.445Z"
   },
   {
    "duration": 48,
    "start_time": "2025-04-22T20:39:30.497Z"
   },
   {
    "duration": 6,
    "start_time": "2025-04-22T20:39:30.548Z"
   },
   {
    "duration": 26,
    "start_time": "2025-04-22T20:39:30.555Z"
   },
   {
    "duration": 224,
    "start_time": "2025-04-22T20:39:30.583Z"
   },
   {
    "duration": 7,
    "start_time": "2025-04-22T20:39:30.808Z"
   },
   {
    "duration": 109,
    "start_time": "2025-04-22T20:39:30.817Z"
   },
   {
    "duration": 7,
    "start_time": "2025-04-22T20:39:30.927Z"
   },
   {
    "duration": 219,
    "start_time": "2025-04-22T20:39:30.936Z"
   },
   {
    "duration": 237,
    "start_time": "2025-04-22T20:39:31.157Z"
   },
   {
    "duration": 121,
    "start_time": "2025-04-22T20:39:31.396Z"
   },
   {
    "duration": 0,
    "start_time": "2025-04-22T20:39:31.520Z"
   },
   {
    "duration": 0,
    "start_time": "2025-04-22T20:39:31.521Z"
   },
   {
    "duration": 0,
    "start_time": "2025-04-22T20:39:31.523Z"
   },
   {
    "duration": 0,
    "start_time": "2025-04-22T20:39:31.524Z"
   },
   {
    "duration": 0,
    "start_time": "2025-04-22T20:39:31.525Z"
   },
   {
    "duration": 0,
    "start_time": "2025-04-22T20:39:31.526Z"
   },
   {
    "duration": 0,
    "start_time": "2025-04-22T20:39:31.527Z"
   },
   {
    "duration": 0,
    "start_time": "2025-04-22T20:39:31.529Z"
   },
   {
    "duration": 0,
    "start_time": "2025-04-22T20:39:31.530Z"
   },
   {
    "duration": 0,
    "start_time": "2025-04-22T20:39:31.531Z"
   },
   {
    "duration": 0,
    "start_time": "2025-04-22T20:39:31.532Z"
   },
   {
    "duration": 0,
    "start_time": "2025-04-22T20:39:31.534Z"
   },
   {
    "duration": 1,
    "start_time": "2025-04-22T20:39:31.534Z"
   },
   {
    "duration": 12,
    "start_time": "2025-04-22T20:39:57.355Z"
   },
   {
    "duration": 230,
    "start_time": "2025-04-22T20:40:04.472Z"
   },
   {
    "duration": 1209,
    "start_time": "2025-04-22T20:40:11.590Z"
   },
   {
    "duration": 62,
    "start_time": "2025-04-22T20:40:12.801Z"
   },
   {
    "duration": 24,
    "start_time": "2025-04-22T20:40:12.865Z"
   },
   {
    "duration": 17,
    "start_time": "2025-04-22T20:40:12.892Z"
   },
   {
    "duration": 15,
    "start_time": "2025-04-22T20:40:12.911Z"
   },
   {
    "duration": 9,
    "start_time": "2025-04-22T20:40:12.928Z"
   },
   {
    "duration": 10,
    "start_time": "2025-04-22T20:40:12.939Z"
   },
   {
    "duration": 15,
    "start_time": "2025-04-22T20:40:12.950Z"
   },
   {
    "duration": 44,
    "start_time": "2025-04-22T20:40:12.967Z"
   },
   {
    "duration": 6,
    "start_time": "2025-04-22T20:40:13.015Z"
   },
   {
    "duration": 9,
    "start_time": "2025-04-22T20:40:13.022Z"
   },
   {
    "duration": 221,
    "start_time": "2025-04-22T20:40:13.032Z"
   },
   {
    "duration": 8,
    "start_time": "2025-04-22T20:40:13.254Z"
   },
   {
    "duration": 160,
    "start_time": "2025-04-22T20:40:13.263Z"
   },
   {
    "duration": 6,
    "start_time": "2025-04-22T20:40:13.424Z"
   },
   {
    "duration": 250,
    "start_time": "2025-04-22T20:40:13.432Z"
   },
   {
    "duration": 237,
    "start_time": "2025-04-22T20:40:13.684Z"
   },
   {
    "duration": 253,
    "start_time": "2025-04-22T20:40:13.923Z"
   },
   {
    "duration": 8,
    "start_time": "2025-04-22T20:40:14.179Z"
   },
   {
    "duration": 16,
    "start_time": "2025-04-22T20:40:14.205Z"
   },
   {
    "duration": 6,
    "start_time": "2025-04-22T20:40:14.223Z"
   },
   {
    "duration": 88,
    "start_time": "2025-04-22T20:40:14.231Z"
   },
   {
    "duration": 434,
    "start_time": "2025-04-22T20:40:14.321Z"
   },
   {
    "duration": 391,
    "start_time": "2025-04-22T20:40:14.756Z"
   },
   {
    "duration": 488,
    "start_time": "2025-04-22T20:40:15.149Z"
   },
   {
    "duration": 399,
    "start_time": "2025-04-22T20:40:15.638Z"
   },
   {
    "duration": 45,
    "start_time": "2025-04-22T20:40:16.040Z"
   },
   {
    "duration": 20,
    "start_time": "2025-04-22T20:40:16.089Z"
   },
   {
    "duration": 15,
    "start_time": "2025-04-22T20:40:16.111Z"
   },
   {
    "duration": 12,
    "start_time": "2025-04-22T20:40:16.127Z"
   },
   {
    "duration": 134,
    "start_time": "2025-04-22T20:40:16.141Z"
   },
   {
    "duration": 17,
    "start_time": "2025-04-22T20:41:11.477Z"
   },
   {
    "duration": 229,
    "start_time": "2025-04-22T21:06:13.475Z"
   },
   {
    "duration": 246,
    "start_time": "2025-04-22T21:06:24.803Z"
   },
   {
    "duration": 1279,
    "start_time": "2025-04-22T21:07:52.965Z"
   },
   {
    "duration": 74,
    "start_time": "2025-04-22T21:07:54.246Z"
   },
   {
    "duration": 22,
    "start_time": "2025-04-22T21:07:54.322Z"
   },
   {
    "duration": 18,
    "start_time": "2025-04-22T21:07:54.346Z"
   },
   {
    "duration": 57,
    "start_time": "2025-04-22T21:07:54.365Z"
   },
   {
    "duration": 99,
    "start_time": "2025-04-22T21:07:54.424Z"
   },
   {
    "duration": 20,
    "start_time": "2025-04-22T21:07:54.525Z"
   },
   {
    "duration": 13,
    "start_time": "2025-04-22T21:07:54.546Z"
   },
   {
    "duration": 16,
    "start_time": "2025-04-22T21:07:54.560Z"
   },
   {
    "duration": 5,
    "start_time": "2025-04-22T21:07:54.579Z"
   },
   {
    "duration": 6,
    "start_time": "2025-04-22T21:07:54.586Z"
   },
   {
    "duration": 223,
    "start_time": "2025-04-22T21:07:54.594Z"
   },
   {
    "duration": 9,
    "start_time": "2025-04-22T21:07:54.819Z"
   },
   {
    "duration": 109,
    "start_time": "2025-04-22T21:07:54.830Z"
   },
   {
    "duration": 6,
    "start_time": "2025-04-22T21:07:54.941Z"
   },
   {
    "duration": 238,
    "start_time": "2025-04-22T21:07:54.949Z"
   },
   {
    "duration": 250,
    "start_time": "2025-04-22T21:07:55.188Z"
   },
   {
    "duration": 249,
    "start_time": "2025-04-22T21:07:55.439Z"
   },
   {
    "duration": 27,
    "start_time": "2025-04-22T21:07:55.690Z"
   },
   {
    "duration": 19,
    "start_time": "2025-04-22T21:07:55.719Z"
   },
   {
    "duration": 11,
    "start_time": "2025-04-22T21:07:55.740Z"
   },
   {
    "duration": 42,
    "start_time": "2025-04-22T21:07:55.754Z"
   },
   {
    "duration": 397,
    "start_time": "2025-04-22T21:07:55.799Z"
   },
   {
    "duration": 406,
    "start_time": "2025-04-22T21:07:56.198Z"
   },
   {
    "duration": 483,
    "start_time": "2025-04-22T21:07:56.616Z"
   },
   {
    "duration": 402,
    "start_time": "2025-04-22T21:07:57.100Z"
   },
   {
    "duration": 29,
    "start_time": "2025-04-22T21:07:57.505Z"
   },
   {
    "duration": 9,
    "start_time": "2025-04-22T21:07:57.538Z"
   },
   {
    "duration": 17,
    "start_time": "2025-04-22T21:07:57.549Z"
   },
   {
    "duration": 52,
    "start_time": "2025-04-22T21:07:57.568Z"
   },
   {
    "duration": 18,
    "start_time": "2025-04-22T21:07:57.622Z"
   },
   {
    "duration": 1196,
    "start_time": "2025-04-22T21:32:16.586Z"
   },
   {
    "duration": 61,
    "start_time": "2025-04-22T21:32:17.785Z"
   },
   {
    "duration": 24,
    "start_time": "2025-04-22T21:32:17.850Z"
   },
   {
    "duration": 19,
    "start_time": "2025-04-22T21:32:17.875Z"
   },
   {
    "duration": 15,
    "start_time": "2025-04-22T21:32:17.896Z"
   },
   {
    "duration": 8,
    "start_time": "2025-04-22T21:32:17.913Z"
   },
   {
    "duration": 38,
    "start_time": "2025-04-22T21:32:17.923Z"
   },
   {
    "duration": 12,
    "start_time": "2025-04-22T21:32:17.963Z"
   },
   {
    "duration": 134,
    "start_time": "2025-04-22T21:32:17.978Z"
   },
   {
    "duration": 139,
    "start_time": "2025-04-22T21:32:18.114Z"
   },
   {
    "duration": 25,
    "start_time": "2025-04-22T21:32:18.255Z"
   },
   {
    "duration": 212,
    "start_time": "2025-04-22T21:32:18.282Z"
   },
   {
    "duration": 8,
    "start_time": "2025-04-22T21:32:18.496Z"
   },
   {
    "duration": 108,
    "start_time": "2025-04-22T21:32:18.506Z"
   },
   {
    "duration": 7,
    "start_time": "2025-04-22T21:32:18.615Z"
   },
   {
    "duration": 222,
    "start_time": "2025-04-22T21:32:18.623Z"
   },
   {
    "duration": 229,
    "start_time": "2025-04-22T21:32:18.847Z"
   },
   {
    "duration": 244,
    "start_time": "2025-04-22T21:32:19.079Z"
   },
   {
    "duration": 7,
    "start_time": "2025-04-22T21:32:19.325Z"
   },
   {
    "duration": 69,
    "start_time": "2025-04-22T21:32:19.334Z"
   },
   {
    "duration": 6,
    "start_time": "2025-04-22T21:32:19.405Z"
   },
   {
    "duration": 24,
    "start_time": "2025-04-22T21:32:19.413Z"
   },
   {
    "duration": 391,
    "start_time": "2025-04-22T21:32:19.440Z"
   },
   {
    "duration": 387,
    "start_time": "2025-04-22T21:32:19.833Z"
   },
   {
    "duration": 473,
    "start_time": "2025-04-22T21:32:20.221Z"
   },
   {
    "duration": 407,
    "start_time": "2025-04-22T21:32:20.696Z"
   },
   {
    "duration": 25,
    "start_time": "2025-04-22T21:32:21.107Z"
   },
   {
    "duration": 27,
    "start_time": "2025-04-22T21:32:21.134Z"
   },
   {
    "duration": 20,
    "start_time": "2025-04-22T21:32:21.163Z"
   },
   {
    "duration": 27,
    "start_time": "2025-04-22T21:32:21.185Z"
   },
   {
    "duration": 44,
    "start_time": "2025-04-22T21:32:21.213Z"
   },
   {
    "duration": 13,
    "start_time": "2025-04-22T21:41:03.626Z"
   },
   {
    "duration": 12,
    "start_time": "2025-04-22T21:41:56.258Z"
   },
   {
    "duration": 108,
    "start_time": "2025-04-22T21:41:59.352Z"
   },
   {
    "duration": 11,
    "start_time": "2025-04-22T21:42:02.972Z"
   },
   {
    "duration": 18,
    "start_time": "2025-04-22T21:44:29.807Z"
   }
  ],
  "kernelspec": {
   "display_name": "Python 3 (ipykernel)",
   "language": "python",
   "name": "python3"
  },
  "language_info": {
   "codemirror_mode": {
    "name": "ipython",
    "version": 3
   },
   "file_extension": ".py",
   "mimetype": "text/x-python",
   "name": "python",
   "nbconvert_exporter": "python",
   "pygments_lexer": "ipython3",
   "version": "3.9.5"
  },
  "toc": {
   "base_numbering": 1,
   "nav_menu": {},
   "number_sections": true,
   "sideBar": true,
   "skip_h1_title": true,
   "title_cell": "Table of Contents",
   "title_sidebar": "Contents",
   "toc_cell": false,
   "toc_position": {},
   "toc_section_display": true,
   "toc_window_display": true
  }
 },
 "nbformat": 4,
 "nbformat_minor": 5
}
